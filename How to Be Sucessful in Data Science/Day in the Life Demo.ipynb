{
 "cells": [
  {
   "cell_type": "markdown",
   "metadata": {},
   "source": [
    "## Day in a life of a Data Scientist using H2O-3 (demo) \n",
    "\n",
    "1. Ease of Loading Data into Cluster\n",
    "\n",
    "2. Introducting the new Isolation Forest algorithm / append dataset\n",
    "\n",
    "3. Building Multiple Tuned Models with H2O-3 AutoML / Saving the model\n",
    "\n",
    "4. Introducting Explainability for H2O-3 Algorithms\n",
    "\n",
    "5. Introducing Generalized Additive Models & Parallel SVM"
   ]
  },
  {
   "cell_type": "code",
   "execution_count": 1,
   "metadata": {},
   "outputs": [],
   "source": [
    "import h2o\n",
    "import numpy as np\n",
    "\n",
    "from h2o.estimators.gam import H2OGeneralizedAdditiveEstimator #GAM\n",
    "from h2o.estimators import H2OSupportVectorMachineEstimator #SVM\n",
    "from h2o.estimators import H2OIsolationForestEstimator #ISOLATION FOREST\n",
    "\n",
    "from h2o.automl import H2OAutoML #AUTOML\n",
    "\n",
    "import matplotlib.pyplot as plt"
   ]
  },
  {
   "cell_type": "markdown",
   "metadata": {},
   "source": [
    "## Start the H2O-3 Cluster (version 3.30)"
   ]
  },
  {
   "cell_type": "code",
   "execution_count": 2,
   "metadata": {},
   "outputs": [
    {
     "name": "stdout",
     "output_type": "stream",
     "text": [
      "Checking whether there is an H2O instance running at http://localhost:54321 ..... not found.\n",
      "Attempting to start a local H2O server...\n",
      "  Java Version: java version \"1.8.0_181\"; Java(TM) SE Runtime Environment (build 1.8.0_181-b13); Java HotSpot(TM) 64-Bit Server VM (build 25.181-b13, mixed mode)\n",
      "  Starting server from /Users/thomasott/opt/anaconda3/lib/python3.7/site-packages/h2o/backend/bin/h2o.jar\n",
      "  Ice root: /var/folders/9c/tqhnrz3x207bf8pzjxjhkm100000gn/T/tmp3ceedpuj\n",
      "  JVM stdout: /var/folders/9c/tqhnrz3x207bf8pzjxjhkm100000gn/T/tmp3ceedpuj/h2o_thomasott_started_from_python.out\n",
      "  JVM stderr: /var/folders/9c/tqhnrz3x207bf8pzjxjhkm100000gn/T/tmp3ceedpuj/h2o_thomasott_started_from_python.err\n",
      "  Server is running at http://127.0.0.1:54321\n",
      "Connecting to H2O server at http://127.0.0.1:54321 ... successful.\n"
     ]
    },
    {
     "data": {
      "text/html": [
       "<div style=\"overflow:auto\"><table style=\"width:50%\"><tr><td>H2O_cluster_uptime:</td>\n",
       "<td>02 secs</td></tr>\n",
       "<tr><td>H2O_cluster_timezone:</td>\n",
       "<td>America/New_York</td></tr>\n",
       "<tr><td>H2O_data_parsing_timezone:</td>\n",
       "<td>UTC</td></tr>\n",
       "<tr><td>H2O_cluster_version:</td>\n",
       "<td>3.30.1.2</td></tr>\n",
       "<tr><td>H2O_cluster_version_age:</td>\n",
       "<td>1 month and 2 days </td></tr>\n",
       "<tr><td>H2O_cluster_name:</td>\n",
       "<td>H2O_from_python_thomasott_w07kqb</td></tr>\n",
       "<tr><td>H2O_cluster_total_nodes:</td>\n",
       "<td>1</td></tr>\n",
       "<tr><td>H2O_cluster_free_memory:</td>\n",
       "<td>3.556 Gb</td></tr>\n",
       "<tr><td>H2O_cluster_total_cores:</td>\n",
       "<td>8</td></tr>\n",
       "<tr><td>H2O_cluster_allowed_cores:</td>\n",
       "<td>8</td></tr>\n",
       "<tr><td>H2O_cluster_status:</td>\n",
       "<td>accepting new members, healthy</td></tr>\n",
       "<tr><td>H2O_connection_url:</td>\n",
       "<td>http://127.0.0.1:54321</td></tr>\n",
       "<tr><td>H2O_connection_proxy:</td>\n",
       "<td>{\"http\": null, \"https\": null}</td></tr>\n",
       "<tr><td>H2O_internal_security:</td>\n",
       "<td>False</td></tr>\n",
       "<tr><td>H2O_API_Extensions:</td>\n",
       "<td>Amazon S3, XGBoost, Algos, AutoML, Core V3, TargetEncoder, Core V4</td></tr>\n",
       "<tr><td>Python_version:</td>\n",
       "<td>3.7.6 final</td></tr></table></div>"
      ],
      "text/plain": [
       "--------------------------  ------------------------------------------------------------------\n",
       "H2O_cluster_uptime:         02 secs\n",
       "H2O_cluster_timezone:       America/New_York\n",
       "H2O_data_parsing_timezone:  UTC\n",
       "H2O_cluster_version:        3.30.1.2\n",
       "H2O_cluster_version_age:    1 month and 2 days\n",
       "H2O_cluster_name:           H2O_from_python_thomasott_w07kqb\n",
       "H2O_cluster_total_nodes:    1\n",
       "H2O_cluster_free_memory:    3.556 Gb\n",
       "H2O_cluster_total_cores:    8\n",
       "H2O_cluster_allowed_cores:  8\n",
       "H2O_cluster_status:         accepting new members, healthy\n",
       "H2O_connection_url:         http://127.0.0.1:54321\n",
       "H2O_connection_proxy:       {\"http\": null, \"https\": null}\n",
       "H2O_internal_security:      False\n",
       "H2O_API_Extensions:         Amazon S3, XGBoost, Algos, AutoML, Core V3, TargetEncoder, Core V4\n",
       "Python_version:             3.7.6 final\n",
       "--------------------------  ------------------------------------------------------------------"
      ]
     },
     "metadata": {},
     "output_type": "display_data"
    }
   ],
   "source": [
    "# Start Cluster to load data.\n",
    "h2o.init()"
   ]
  },
  {
   "cell_type": "markdown",
   "metadata": {},
   "source": [
    "## Step 1 - Load Data Quickly into the Cluster\n",
    "Note: Data can live on the cluster or come from a bucket like S3, Hive, etc."
   ]
  },
  {
   "cell_type": "code",
   "execution_count": 3,
   "metadata": {},
   "outputs": [
    {
     "name": "stdout",
     "output_type": "stream",
     "text": [
      "Parse progress: |█████████████████████████████████████████████████████████| 100%\n",
      "Parse progress: |█████████████████████████████████████████████████████████| 100%\n"
     ]
    }
   ],
   "source": [
    "#Path datasets for training and testing\n",
    "train_path = \"https://s3.amazonaws.com/h2o-training/events/ibm_index/CreditCard_Cat-train.csv\"\n",
    "test_path =\"https://s3.amazonaws.com/h2o-training/events/ibm_index/CreditCard_Cat-test.csv\"\n",
    "\n",
    "# import the train and test dataset\n",
    "train = h2o.import_file(train_path, destination_frame='CreditCard_Cat-train.csv')\n",
    "test = h2o.import_file(test_path, destination_frame='CreditCard_Cat-test.csv')"
   ]
  },
  {
   "cell_type": "markdown",
   "metadata": {},
   "source": [
    "## Inspect the Dataset"
   ]
  },
  {
   "cell_type": "code",
   "execution_count": 4,
   "metadata": {},
   "outputs": [
    {
     "data": {
      "text/html": [
       "<table>\n",
       "<thead>\n",
       "<tr><th style=\"text-align: right;\">  ID</th><th style=\"text-align: right;\">  LIMIT_BAL</th><th>SEX   </th><th>EDUCATION  </th><th>MARRIAGE  </th><th style=\"text-align: right;\">  AGE</th><th style=\"text-align: right;\">  PAY_0</th><th style=\"text-align: right;\">  PAY_2</th><th style=\"text-align: right;\">  PAY_3</th><th style=\"text-align: right;\">  PAY_4</th><th style=\"text-align: right;\">  PAY_5</th><th style=\"text-align: right;\">  PAY_6</th><th style=\"text-align: right;\">  BILL_AMT1</th><th style=\"text-align: right;\">  BILL_AMT2</th><th style=\"text-align: right;\">  BILL_AMT3</th><th style=\"text-align: right;\">  BILL_AMT4</th><th style=\"text-align: right;\">  BILL_AMT5</th><th style=\"text-align: right;\">  BILL_AMT6</th><th style=\"text-align: right;\">  PAY_AMT1</th><th style=\"text-align: right;\">  PAY_AMT2</th><th style=\"text-align: right;\">  PAY_AMT3</th><th style=\"text-align: right;\">  PAY_AMT4</th><th style=\"text-align: right;\">  PAY_AMT5</th><th style=\"text-align: right;\">  PAY_AMT6</th><th style=\"text-align: right;\">  DEFAULT_PAYMENT_NEXT_MONTH</th></tr>\n",
       "</thead>\n",
       "<tbody>\n",
       "<tr><td style=\"text-align: right;\">   1</td><td style=\"text-align: right;\">      20000</td><td>female</td><td>university </td><td>married   </td><td style=\"text-align: right;\">   24</td><td style=\"text-align: right;\">     -2</td><td style=\"text-align: right;\">      2</td><td style=\"text-align: right;\">     -1</td><td style=\"text-align: right;\">     -1</td><td style=\"text-align: right;\">     -2</td><td style=\"text-align: right;\">     -2</td><td style=\"text-align: right;\">       3913</td><td style=\"text-align: right;\">       3102</td><td style=\"text-align: right;\">        689</td><td style=\"text-align: right;\">          0</td><td style=\"text-align: right;\">          0</td><td style=\"text-align: right;\">          0</td><td style=\"text-align: right;\">         0</td><td style=\"text-align: right;\">       689</td><td style=\"text-align: right;\">         0</td><td style=\"text-align: right;\">         0</td><td style=\"text-align: right;\">         0</td><td style=\"text-align: right;\">         0</td><td style=\"text-align: right;\">                           1</td></tr>\n",
       "<tr><td style=\"text-align: right;\">   2</td><td style=\"text-align: right;\">     120000</td><td>female</td><td>university </td><td>single    </td><td style=\"text-align: right;\">   26</td><td style=\"text-align: right;\">     -1</td><td style=\"text-align: right;\">      2</td><td style=\"text-align: right;\">      0</td><td style=\"text-align: right;\">      0</td><td style=\"text-align: right;\">      0</td><td style=\"text-align: right;\">      2</td><td style=\"text-align: right;\">       2682</td><td style=\"text-align: right;\">       1725</td><td style=\"text-align: right;\">       2682</td><td style=\"text-align: right;\">       3272</td><td style=\"text-align: right;\">       3455</td><td style=\"text-align: right;\">       3261</td><td style=\"text-align: right;\">         0</td><td style=\"text-align: right;\">      1000</td><td style=\"text-align: right;\">      1000</td><td style=\"text-align: right;\">      1000</td><td style=\"text-align: right;\">         0</td><td style=\"text-align: right;\">      2000</td><td style=\"text-align: right;\">                           1</td></tr>\n",
       "<tr><td style=\"text-align: right;\">   3</td><td style=\"text-align: right;\">      90000</td><td>female</td><td>university </td><td>single    </td><td style=\"text-align: right;\">   34</td><td style=\"text-align: right;\">      0</td><td style=\"text-align: right;\">      0</td><td style=\"text-align: right;\">      0</td><td style=\"text-align: right;\">      0</td><td style=\"text-align: right;\">      0</td><td style=\"text-align: right;\">      0</td><td style=\"text-align: right;\">      29239</td><td style=\"text-align: right;\">      14027</td><td style=\"text-align: right;\">      13559</td><td style=\"text-align: right;\">      14331</td><td style=\"text-align: right;\">      14948</td><td style=\"text-align: right;\">      15549</td><td style=\"text-align: right;\">      1518</td><td style=\"text-align: right;\">      1500</td><td style=\"text-align: right;\">      1000</td><td style=\"text-align: right;\">      1000</td><td style=\"text-align: right;\">      1000</td><td style=\"text-align: right;\">      5000</td><td style=\"text-align: right;\">                           0</td></tr>\n",
       "<tr><td style=\"text-align: right;\">   4</td><td style=\"text-align: right;\">      50000</td><td>female</td><td>university </td><td>married   </td><td style=\"text-align: right;\">   37</td><td style=\"text-align: right;\">      1</td><td style=\"text-align: right;\">      0</td><td style=\"text-align: right;\">      0</td><td style=\"text-align: right;\">      0</td><td style=\"text-align: right;\">      0</td><td style=\"text-align: right;\">      0</td><td style=\"text-align: right;\">      46990</td><td style=\"text-align: right;\">      48233</td><td style=\"text-align: right;\">      49291</td><td style=\"text-align: right;\">      28314</td><td style=\"text-align: right;\">      28959</td><td style=\"text-align: right;\">      29547</td><td style=\"text-align: right;\">      2000</td><td style=\"text-align: right;\">      2019</td><td style=\"text-align: right;\">      1200</td><td style=\"text-align: right;\">      1100</td><td style=\"text-align: right;\">      1069</td><td style=\"text-align: right;\">      1000</td><td style=\"text-align: right;\">                           0</td></tr>\n",
       "<tr><td style=\"text-align: right;\">   5</td><td style=\"text-align: right;\">      50000</td><td>male  </td><td>university </td><td>married   </td><td style=\"text-align: right;\">   57</td><td style=\"text-align: right;\">      2</td><td style=\"text-align: right;\">      0</td><td style=\"text-align: right;\">     -1</td><td style=\"text-align: right;\">      0</td><td style=\"text-align: right;\">      0</td><td style=\"text-align: right;\">      0</td><td style=\"text-align: right;\">       8617</td><td style=\"text-align: right;\">       5670</td><td style=\"text-align: right;\">      35835</td><td style=\"text-align: right;\">      20940</td><td style=\"text-align: right;\">      19146</td><td style=\"text-align: right;\">      19131</td><td style=\"text-align: right;\">      2000</td><td style=\"text-align: right;\">     36681</td><td style=\"text-align: right;\">     10000</td><td style=\"text-align: right;\">      9000</td><td style=\"text-align: right;\">       689</td><td style=\"text-align: right;\">       679</td><td style=\"text-align: right;\">                           0</td></tr>\n",
       "<tr><td style=\"text-align: right;\">   6</td><td style=\"text-align: right;\">      50000</td><td>male  </td><td>graduate   </td><td>single    </td><td style=\"text-align: right;\">   37</td><td style=\"text-align: right;\">      3</td><td style=\"text-align: right;\">      0</td><td style=\"text-align: right;\">      0</td><td style=\"text-align: right;\">      0</td><td style=\"text-align: right;\">      0</td><td style=\"text-align: right;\">      0</td><td style=\"text-align: right;\">      64400</td><td style=\"text-align: right;\">      57069</td><td style=\"text-align: right;\">      57608</td><td style=\"text-align: right;\">      19394</td><td style=\"text-align: right;\">      19619</td><td style=\"text-align: right;\">      20024</td><td style=\"text-align: right;\">      2500</td><td style=\"text-align: right;\">      1815</td><td style=\"text-align: right;\">       657</td><td style=\"text-align: right;\">      1000</td><td style=\"text-align: right;\">      1000</td><td style=\"text-align: right;\">       800</td><td style=\"text-align: right;\">                           0</td></tr>\n",
       "<tr><td style=\"text-align: right;\">   7</td><td style=\"text-align: right;\">     500000</td><td>male  </td><td>graduate   </td><td>single    </td><td style=\"text-align: right;\">   29</td><td style=\"text-align: right;\">      4</td><td style=\"text-align: right;\">      0</td><td style=\"text-align: right;\">      0</td><td style=\"text-align: right;\">      0</td><td style=\"text-align: right;\">      0</td><td style=\"text-align: right;\">      0</td><td style=\"text-align: right;\">     367965</td><td style=\"text-align: right;\">     412023</td><td style=\"text-align: right;\">     445007</td><td style=\"text-align: right;\">     542653</td><td style=\"text-align: right;\">     483003</td><td style=\"text-align: right;\">     473944</td><td style=\"text-align: right;\">     55000</td><td style=\"text-align: right;\">     40000</td><td style=\"text-align: right;\">     38000</td><td style=\"text-align: right;\">     20239</td><td style=\"text-align: right;\">     13750</td><td style=\"text-align: right;\">     13770</td><td style=\"text-align: right;\">                           0</td></tr>\n",
       "<tr><td style=\"text-align: right;\">   8</td><td style=\"text-align: right;\">     100000</td><td>female</td><td>university </td><td>single    </td><td style=\"text-align: right;\">   23</td><td style=\"text-align: right;\">      5</td><td style=\"text-align: right;\">     -1</td><td style=\"text-align: right;\">     -1</td><td style=\"text-align: right;\">      0</td><td style=\"text-align: right;\">      0</td><td style=\"text-align: right;\">     -1</td><td style=\"text-align: right;\">      11876</td><td style=\"text-align: right;\">        380</td><td style=\"text-align: right;\">        601</td><td style=\"text-align: right;\">        221</td><td style=\"text-align: right;\">       -159</td><td style=\"text-align: right;\">        567</td><td style=\"text-align: right;\">       380</td><td style=\"text-align: right;\">       601</td><td style=\"text-align: right;\">         0</td><td style=\"text-align: right;\">       581</td><td style=\"text-align: right;\">      1687</td><td style=\"text-align: right;\">      1542</td><td style=\"text-align: right;\">                           0</td></tr>\n",
       "<tr><td style=\"text-align: right;\">   9</td><td style=\"text-align: right;\">     140000</td><td>female</td><td>highschool </td><td>married   </td><td style=\"text-align: right;\">   28</td><td style=\"text-align: right;\">      6</td><td style=\"text-align: right;\">      0</td><td style=\"text-align: right;\">      2</td><td style=\"text-align: right;\">      0</td><td style=\"text-align: right;\">      0</td><td style=\"text-align: right;\">      0</td><td style=\"text-align: right;\">      11285</td><td style=\"text-align: right;\">      14096</td><td style=\"text-align: right;\">      12108</td><td style=\"text-align: right;\">      12211</td><td style=\"text-align: right;\">      11793</td><td style=\"text-align: right;\">       3719</td><td style=\"text-align: right;\">      3329</td><td style=\"text-align: right;\">         0</td><td style=\"text-align: right;\">       432</td><td style=\"text-align: right;\">      1000</td><td style=\"text-align: right;\">      1000</td><td style=\"text-align: right;\">      1000</td><td style=\"text-align: right;\">                           0</td></tr>\n",
       "<tr><td style=\"text-align: right;\">  10</td><td style=\"text-align: right;\">      20000</td><td>male  </td><td>highschool </td><td>single    </td><td style=\"text-align: right;\">   35</td><td style=\"text-align: right;\">      7</td><td style=\"text-align: right;\">     -2</td><td style=\"text-align: right;\">     -2</td><td style=\"text-align: right;\">     -2</td><td style=\"text-align: right;\">     -1</td><td style=\"text-align: right;\">     -1</td><td style=\"text-align: right;\">          0</td><td style=\"text-align: right;\">          0</td><td style=\"text-align: right;\">          0</td><td style=\"text-align: right;\">          0</td><td style=\"text-align: right;\">      13007</td><td style=\"text-align: right;\">      13912</td><td style=\"text-align: right;\">         0</td><td style=\"text-align: right;\">         0</td><td style=\"text-align: right;\">         0</td><td style=\"text-align: right;\">     13007</td><td style=\"text-align: right;\">      1122</td><td style=\"text-align: right;\">         0</td><td style=\"text-align: right;\">                           0</td></tr>\n",
       "</tbody>\n",
       "</table>"
      ]
     },
     "metadata": {},
     "output_type": "display_data"
    },
    {
     "data": {
      "text/plain": []
     },
     "execution_count": 4,
     "metadata": {},
     "output_type": "execute_result"
    }
   ],
   "source": [
    "train.head()"
   ]
  },
  {
   "cell_type": "markdown",
   "metadata": {},
   "source": [
    "## Step 2 - Introducing the new Isolation Forest Algorithm for detecting Anomalies\n",
    "We'll use the Isolation Forest Algorithm to find anomalies and add them as a column to our dataset."
   ]
  },
  {
   "cell_type": "code",
   "execution_count": 5,
   "metadata": {},
   "outputs": [
    {
     "name": "stderr",
     "output_type": "stream",
     "text": [
      "/Users/thomasott/opt/anaconda3/lib/python3.7/site-packages/h2o/estimators/estimator_base.py:200: RuntimeWarning: Stopping tolerance is ignored for _stopping_rounds=0.\n",
      "  warnings.warn(mesg[\"message\"], RuntimeWarning)\n"
     ]
    },
    {
     "name": "stdout",
     "output_type": "stream",
     "text": [
      "isolationforest Model Build progress: |███████████████████████████████████| 100%\n",
      "isolationforest Model Build progress: |███████████████████████████████████| 100%\n"
     ]
    }
   ],
   "source": [
    "myX = ['LIMIT_BAL','SEX','EDUCATION','MARRIAGE','AGE','PAY_0','PAY_2','PAY_3','PAY_4','PAY_5',\n",
    " 'PAY_6','BILL_AMT1','BILL_AMT2','BILL_AMT3','BILL_AMT4','BILL_AMT5','BILL_AMT6','PAY_AMT1','PAY_AMT2',\n",
    " 'PAY_AMT3','PAY_AMT4','PAY_AMT5','PAY_AMT6']\n",
    "\n",
    "isolation_model_train = H2OIsolationForestEstimator(model_id = \"isolation_forest_train.hex\", seed = 1234)\n",
    "isolation_model_train.train(training_frame = train, x = myX)\n",
    "\n",
    "isolation_model_test = H2OIsolationForestEstimator(model_id = \"isolation_forest_test.hex\", seed = 1234)\n",
    "isolation_model_test.train(training_frame = test, x = myX)\n"
   ]
  },
  {
   "cell_type": "markdown",
   "metadata": {},
   "source": [
    "## Check the mean_length for the anomalies\n"
   ]
  },
  {
   "cell_type": "code",
   "execution_count": 6,
   "metadata": {},
   "outputs": [
    {
     "name": "stdout",
     "output_type": "stream",
     "text": [
      "isolationforest prediction progress: |████████████████████████████████████| 100%\n",
      "isolationforest prediction progress: |████████████████████████████████████| 100%\n"
     ]
    },
    {
     "data": {
      "text/html": [
       "<table>\n",
       "<thead>\n",
       "<tr><th style=\"text-align: right;\">  predict</th><th style=\"text-align: right;\">  mean_length</th></tr>\n",
       "</thead>\n",
       "<tbody>\n",
       "<tr><td style=\"text-align: right;\">0.0705882</td><td style=\"text-align: right;\">         6.76</td></tr>\n",
       "<tr><td style=\"text-align: right;\">0.0647059</td><td style=\"text-align: right;\">         6.78</td></tr>\n",
       "<tr><td style=\"text-align: right;\">0        </td><td style=\"text-align: right;\">         7   </td></tr>\n",
       "<tr><td style=\"text-align: right;\">0        </td><td style=\"text-align: right;\">         7   </td></tr>\n",
       "<tr><td style=\"text-align: right;\">0.141176 </td><td style=\"text-align: right;\">         6.52</td></tr>\n",
       "<tr><td style=\"text-align: right;\">0.0352941</td><td style=\"text-align: right;\">         6.88</td></tr>\n",
       "<tr><td style=\"text-align: right;\">0.729412 </td><td style=\"text-align: right;\">         4.52</td></tr>\n",
       "<tr><td style=\"text-align: right;\">0.0941176</td><td style=\"text-align: right;\">         6.68</td></tr>\n",
       "<tr><td style=\"text-align: right;\">0.0294118</td><td style=\"text-align: right;\">         6.9 </td></tr>\n",
       "<tr><td style=\"text-align: right;\">0.158824 </td><td style=\"text-align: right;\">         6.46</td></tr>\n",
       "</tbody>\n",
       "</table>"
      ]
     },
     "metadata": {},
     "output_type": "display_data"
    },
    {
     "data": {
      "text/plain": []
     },
     "execution_count": 6,
     "metadata": {},
     "output_type": "execute_result"
    }
   ],
   "source": [
    "predictions_train = isolation_model_train.predict(train)\n",
    "predictions_test = isolation_model_test.predict(test)\n",
    "predictions_train.head()"
   ]
  },
  {
   "cell_type": "code",
   "execution_count": 7,
   "metadata": {},
   "outputs": [
    {
     "name": "stdout",
     "output_type": "stream",
     "text": [
      "Number of Anomalies in Train Set: 344\n",
      "Number of Anomalies in Test Set: 73\n"
     ]
    }
   ],
   "source": [
    "anomalies_train = train[predictions_train[\"mean_length\"] < 5.5]\n",
    "\n",
    "print(\"Number of Anomalies in Train Set: \" + str(anomalies_train.nrow))\n",
    "\n",
    "anomalies_test = test[predictions_test[\"mean_length\"] < 5.5]\n",
    "\n",
    "print(\"Number of Anomalies in Test Set: \" + str(anomalies_test.nrow))"
   ]
  },
  {
   "cell_type": "code",
   "execution_count": 8,
   "metadata": {},
   "outputs": [
    {
     "name": "stdout",
     "output_type": "stream",
     "text": [
      "isolationforest prediction progress: |████████████████████████████████████| 100%\n",
      "isolationforest prediction progress: |████████████████████████████████████| 100%\n"
     ]
    },
    {
     "data": {
      "text/html": [
       "<table>\n",
       "<thead>\n",
       "<tr><th style=\"text-align: right;\">  mean_length</th><th style=\"text-align: right;\">  LIMIT_BAL</th><th>SEX  </th><th>EDUCATION  </th><th>MARRIAGE  </th><th style=\"text-align: right;\">  AGE</th><th style=\"text-align: right;\">  PAY_0</th><th style=\"text-align: right;\">  PAY_2</th><th style=\"text-align: right;\">  PAY_3</th><th style=\"text-align: right;\">  PAY_4</th><th style=\"text-align: right;\">  PAY_5</th><th style=\"text-align: right;\">  PAY_6</th><th style=\"text-align: right;\">  BILL_AMT1</th><th style=\"text-align: right;\">  BILL_AMT2</th><th style=\"text-align: right;\">  BILL_AMT3</th><th style=\"text-align: right;\">  BILL_AMT4</th><th style=\"text-align: right;\">  BILL_AMT5</th><th style=\"text-align: right;\">  BILL_AMT6</th><th style=\"text-align: right;\">  PAY_AMT1</th><th style=\"text-align: right;\">  PAY_AMT2</th><th style=\"text-align: right;\">  PAY_AMT3</th><th style=\"text-align: right;\">  PAY_AMT4</th><th style=\"text-align: right;\">  PAY_AMT5</th><th style=\"text-align: right;\">  PAY_AMT6</th></tr>\n",
       "</thead>\n",
       "<tbody>\n",
       "<tr><td style=\"text-align: right;\">         4.98</td><td style=\"text-align: right;\">     500000</td><td>male </td><td>graduate   </td><td>single    </td><td style=\"text-align: right;\">   27</td><td style=\"text-align: right;\">      0</td><td style=\"text-align: right;\">      0</td><td style=\"text-align: right;\">      0</td><td style=\"text-align: right;\">      0</td><td style=\"text-align: right;\">      0</td><td style=\"text-align: right;\">      0</td><td style=\"text-align: right;\">     252881</td><td style=\"text-align: right;\">     224633</td><td style=\"text-align: right;\">     486367</td><td style=\"text-align: right;\">     616836</td><td style=\"text-align: right;\">     250600</td><td style=\"text-align: right;\">     296217</td><td style=\"text-align: right;\">     30032</td><td style=\"text-align: right;\">    271636</td><td style=\"text-align: right;\">     30876</td><td style=\"text-align: right;\">     60044</td><td style=\"text-align: right;\">     50539</td><td style=\"text-align: right;\">    100562</td></tr>\n",
       "<tr><td style=\"text-align: right;\">         5.4 </td><td style=\"text-align: right;\">      20000</td><td>male </td><td>university </td><td>single    </td><td style=\"text-align: right;\">   22</td><td style=\"text-align: right;\">      3</td><td style=\"text-align: right;\">      2</td><td style=\"text-align: right;\">      2</td><td style=\"text-align: right;\">      7</td><td style=\"text-align: right;\">      7</td><td style=\"text-align: right;\">      7</td><td style=\"text-align: right;\">       2400</td><td style=\"text-align: right;\">       2400</td><td style=\"text-align: right;\">       2400</td><td style=\"text-align: right;\">       2400</td><td style=\"text-align: right;\">       2400</td><td style=\"text-align: right;\">       2400</td><td style=\"text-align: right;\">         0</td><td style=\"text-align: right;\">         0</td><td style=\"text-align: right;\">         0</td><td style=\"text-align: right;\">         0</td><td style=\"text-align: right;\">         0</td><td style=\"text-align: right;\">         0</td></tr>\n",
       "<tr><td style=\"text-align: right;\">         5.42</td><td style=\"text-align: right;\">     200000</td><td>male </td><td>graduate   </td><td>single    </td><td style=\"text-align: right;\">   30</td><td style=\"text-align: right;\">      2</td><td style=\"text-align: right;\">      4</td><td style=\"text-align: right;\">      4</td><td style=\"text-align: right;\">      4</td><td style=\"text-align: right;\">      4</td><td style=\"text-align: right;\">      4</td><td style=\"text-align: right;\">     173639</td><td style=\"text-align: right;\">     176605</td><td style=\"text-align: right;\">     179754</td><td style=\"text-align: right;\">     182763</td><td style=\"text-align: right;\">     184570</td><td style=\"text-align: right;\">     184091</td><td style=\"text-align: right;\">      7310</td><td style=\"text-align: right;\">      7459</td><td style=\"text-align: right;\">      7468</td><td style=\"text-align: right;\">      6275</td><td style=\"text-align: right;\">      3000</td><td style=\"text-align: right;\">         0</td></tr>\n",
       "<tr><td style=\"text-align: right;\">         5.02</td><td style=\"text-align: right;\">     320000</td><td>male </td><td>university </td><td>married   </td><td style=\"text-align: right;\">   39</td><td style=\"text-align: right;\">      0</td><td style=\"text-align: right;\">      0</td><td style=\"text-align: right;\">     -1</td><td style=\"text-align: right;\">     -1</td><td style=\"text-align: right;\">      0</td><td style=\"text-align: right;\">      0</td><td style=\"text-align: right;\">     310243</td><td style=\"text-align: right;\">          0</td><td style=\"text-align: right;\">     189018</td><td style=\"text-align: right;\">     131916</td><td style=\"text-align: right;\">     258800</td><td style=\"text-align: right;\">      96900</td><td style=\"text-align: right;\">         0</td><td style=\"text-align: right;\">    189018</td><td style=\"text-align: right;\">    132846</td><td style=\"text-align: right;\">    130400</td><td style=\"text-align: right;\">    193800</td><td style=\"text-align: right;\">     45313</td></tr>\n",
       "<tr><td style=\"text-align: right;\">         5.3 </td><td style=\"text-align: right;\">     490000</td><td>male </td><td>graduate   </td><td>married   </td><td style=\"text-align: right;\">   39</td><td style=\"text-align: right;\">      0</td><td style=\"text-align: right;\">      0</td><td style=\"text-align: right;\">     -1</td><td style=\"text-align: right;\">     -1</td><td style=\"text-align: right;\">      0</td><td style=\"text-align: right;\">      0</td><td style=\"text-align: right;\">     189460</td><td style=\"text-align: right;\">      16769</td><td style=\"text-align: right;\">       2310</td><td style=\"text-align: right;\">      48409</td><td style=\"text-align: right;\">     296319</td><td style=\"text-align: right;\">     181627</td><td style=\"text-align: right;\">     16405</td><td style=\"text-align: right;\">      2324</td><td style=\"text-align: right;\">     25053</td><td style=\"text-align: right;\">    280695</td><td style=\"text-align: right;\">     17398</td><td style=\"text-align: right;\">    160111</td></tr>\n",
       "<tr><td style=\"text-align: right;\">         5.48</td><td style=\"text-align: right;\">     100000</td><td>male </td><td>highschool </td><td>married   </td><td style=\"text-align: right;\">   42</td><td style=\"text-align: right;\">      7</td><td style=\"text-align: right;\">      6</td><td style=\"text-align: right;\">      5</td><td style=\"text-align: right;\">      4</td><td style=\"text-align: right;\">      3</td><td style=\"text-align: right;\">      2</td><td style=\"text-align: right;\">      33816</td><td style=\"text-align: right;\">      33024</td><td style=\"text-align: right;\">      32308</td><td style=\"text-align: right;\">      31399</td><td style=\"text-align: right;\">      30448</td><td style=\"text-align: right;\">      29933</td><td style=\"text-align: right;\">         0</td><td style=\"text-align: right;\">        60</td><td style=\"text-align: right;\">         0</td><td style=\"text-align: right;\">         0</td><td style=\"text-align: right;\">         0</td><td style=\"text-align: right;\">       118</td></tr>\n",
       "<tr><td style=\"text-align: right;\">         5.38</td><td style=\"text-align: right;\">     600000</td><td>male </td><td>graduate   </td><td>married   </td><td style=\"text-align: right;\">   36</td><td style=\"text-align: right;\">      0</td><td style=\"text-align: right;\">      0</td><td style=\"text-align: right;\">      0</td><td style=\"text-align: right;\">      0</td><td style=\"text-align: right;\">      0</td><td style=\"text-align: right;\">      0</td><td style=\"text-align: right;\">     372396</td><td style=\"text-align: right;\">     416438</td><td style=\"text-align: right;\">     459749</td><td style=\"text-align: right;\">     455910</td><td style=\"text-align: right;\">     463611</td><td style=\"text-align: right;\">     466570</td><td style=\"text-align: right;\">     50000</td><td style=\"text-align: right;\">     50000</td><td style=\"text-align: right;\">     15000</td><td style=\"text-align: right;\">     20000</td><td style=\"text-align: right;\">     15000</td><td style=\"text-align: right;\">      7000</td></tr>\n",
       "<tr><td style=\"text-align: right;\">         5.42</td><td style=\"text-align: right;\">     730000</td><td>male </td><td>university </td><td>married   </td><td style=\"text-align: right;\">   37</td><td style=\"text-align: right;\">      0</td><td style=\"text-align: right;\">      0</td><td style=\"text-align: right;\">      0</td><td style=\"text-align: right;\">      0</td><td style=\"text-align: right;\">     -1</td><td style=\"text-align: right;\">      0</td><td style=\"text-align: right;\">      70309</td><td style=\"text-align: right;\">      61991</td><td style=\"text-align: right;\">      49082</td><td style=\"text-align: right;\">      26873</td><td style=\"text-align: right;\">     514114</td><td style=\"text-align: right;\">     499100</td><td style=\"text-align: right;\">     20000</td><td style=\"text-align: right;\">     14023</td><td style=\"text-align: right;\">      9035</td><td style=\"text-align: right;\">    528897</td><td style=\"text-align: right;\">     22005</td><td style=\"text-align: right;\">     15000</td></tr>\n",
       "<tr><td style=\"text-align: right;\">         5.22</td><td style=\"text-align: right;\">     500000</td><td>male </td><td>graduate   </td><td>married   </td><td style=\"text-align: right;\">   46</td><td style=\"text-align: right;\">     -1</td><td style=\"text-align: right;\">     -1</td><td style=\"text-align: right;\">     -1</td><td style=\"text-align: right;\">      0</td><td style=\"text-align: right;\">      0</td><td style=\"text-align: right;\">      0</td><td style=\"text-align: right;\">      46178</td><td style=\"text-align: right;\">      56570</td><td style=\"text-align: right;\">     117102</td><td style=\"text-align: right;\">     159284</td><td style=\"text-align: right;\">     112078</td><td style=\"text-align: right;\">     136341</td><td style=\"text-align: right;\">     57498</td><td style=\"text-align: right;\">    120899</td><td style=\"text-align: right;\">    101500</td><td style=\"text-align: right;\">     30418</td><td style=\"text-align: right;\">     80668</td><td style=\"text-align: right;\">     50384</td></tr>\n",
       "<tr><td style=\"text-align: right;\">         5.42</td><td style=\"text-align: right;\">     430000</td><td>male </td><td>graduate   </td><td>married   </td><td style=\"text-align: right;\">   39</td><td style=\"text-align: right;\">     -1</td><td style=\"text-align: right;\">     -1</td><td style=\"text-align: right;\">      0</td><td style=\"text-align: right;\">      0</td><td style=\"text-align: right;\">     -1</td><td style=\"text-align: right;\">     -1</td><td style=\"text-align: right;\">      43970</td><td style=\"text-align: right;\">      46127</td><td style=\"text-align: right;\">     336073</td><td style=\"text-align: right;\">     325463</td><td style=\"text-align: right;\">      38290</td><td style=\"text-align: right;\">      21800</td><td style=\"text-align: right;\">     50942</td><td style=\"text-align: right;\">    325470</td><td style=\"text-align: right;\">     20003</td><td style=\"text-align: right;\">     39068</td><td style=\"text-align: right;\">     21800</td><td style=\"text-align: right;\">    351282</td></tr>\n",
       "</tbody>\n",
       "</table>"
      ]
     },
     "metadata": {},
     "output_type": "display_data"
    },
    {
     "data": {
      "text/plain": []
     },
     "execution_count": 8,
     "metadata": {},
     "output_type": "execute_result"
    }
   ],
   "source": [
    "# Add the mean_length column to the dataset Training and Test datasets\n",
    "isolation_model_train.predict(anomalies_train)[\"mean_length\"].cbind(anomalies_train[myX])\n",
    "isolation_model_test.predict(anomalies_test)[\"mean_length\"].cbind(anomalies_test[myX])"
   ]
  },
  {
   "cell_type": "code",
   "execution_count": 9,
   "metadata": {},
   "outputs": [
    {
     "data": {
      "text/html": [
       "<table>\n",
       "<thead>\n",
       "<tr><th>anomaly  </th><th style=\"text-align: right;\">  Count</th></tr>\n",
       "</thead>\n",
       "<tbody>\n",
       "<tr><td>No       </td><td style=\"text-align: right;\">  23655</td></tr>\n",
       "<tr><td>Yes      </td><td style=\"text-align: right;\">    344</td></tr>\n",
       "</tbody>\n",
       "</table>"
      ]
     },
     "metadata": {},
     "output_type": "display_data"
    },
    {
     "data": {
      "text/plain": []
     },
     "execution_count": 9,
     "metadata": {},
     "output_type": "execute_result"
    }
   ],
   "source": [
    "#Convert the training and test mean_length column to binary 'Yes' or 'No'\n",
    "global_surrogate_data_train = train[:, :]\n",
    "global_surrogate_data_train[\"anomaly\"] = (predictions_train[\"mean_length\"] < 5.5).ifelse(\"Yes\", \"No\")\n",
    "global_surrogate_data_train[\"anomaly\"].table()"
   ]
  },
  {
   "cell_type": "code",
   "execution_count": 10,
   "metadata": {},
   "outputs": [
    {
     "data": {
      "text/html": [
       "<table>\n",
       "<thead>\n",
       "<tr><th>anomaly  </th><th style=\"text-align: right;\">  Count</th></tr>\n",
       "</thead>\n",
       "<tbody>\n",
       "<tr><td>No       </td><td style=\"text-align: right;\">   5927</td></tr>\n",
       "<tr><td>Yes      </td><td style=\"text-align: right;\">     73</td></tr>\n",
       "</tbody>\n",
       "</table>"
      ]
     },
     "metadata": {},
     "output_type": "display_data"
    },
    {
     "data": {
      "text/plain": []
     },
     "execution_count": 10,
     "metadata": {},
     "output_type": "execute_result"
    }
   ],
   "source": [
    "global_surrogate_data_test = test[:, :]\n",
    "global_surrogate_data_test[\"anomaly\"] = (predictions_test[\"mean_length\"] < 5.5).ifelse(\"Yes\", \"No\")\n",
    "global_surrogate_data_test[\"anomaly\"].table()"
   ]
  },
  {
   "cell_type": "code",
   "execution_count": 11,
   "metadata": {},
   "outputs": [
    {
     "data": {
      "text/html": [
       "<table>\n",
       "<thead>\n",
       "<tr><th style=\"text-align: right;\">  ID</th><th style=\"text-align: right;\">  LIMIT_BAL</th><th>SEX   </th><th>EDUCATION  </th><th>MARRIAGE  </th><th style=\"text-align: right;\">  AGE</th><th style=\"text-align: right;\">  PAY_0</th><th style=\"text-align: right;\">  PAY_2</th><th style=\"text-align: right;\">  PAY_3</th><th style=\"text-align: right;\">  PAY_4</th><th style=\"text-align: right;\">  PAY_5</th><th style=\"text-align: right;\">  PAY_6</th><th style=\"text-align: right;\">  BILL_AMT1</th><th style=\"text-align: right;\">  BILL_AMT2</th><th style=\"text-align: right;\">  BILL_AMT3</th><th style=\"text-align: right;\">  BILL_AMT4</th><th style=\"text-align: right;\">  BILL_AMT5</th><th style=\"text-align: right;\">  BILL_AMT6</th><th style=\"text-align: right;\">  PAY_AMT1</th><th style=\"text-align: right;\">  PAY_AMT2</th><th style=\"text-align: right;\">  PAY_AMT3</th><th style=\"text-align: right;\">  PAY_AMT4</th><th style=\"text-align: right;\">  PAY_AMT5</th><th style=\"text-align: right;\">  PAY_AMT6</th><th style=\"text-align: right;\">  DEFAULT_PAYMENT_NEXT_MONTH</th><th>anomaly  </th></tr>\n",
       "</thead>\n",
       "<tbody>\n",
       "<tr><td style=\"text-align: right;\">   1</td><td style=\"text-align: right;\">      20000</td><td>female</td><td>university </td><td>married   </td><td style=\"text-align: right;\">   24</td><td style=\"text-align: right;\">     -2</td><td style=\"text-align: right;\">      2</td><td style=\"text-align: right;\">     -1</td><td style=\"text-align: right;\">     -1</td><td style=\"text-align: right;\">     -2</td><td style=\"text-align: right;\">     -2</td><td style=\"text-align: right;\">       3913</td><td style=\"text-align: right;\">       3102</td><td style=\"text-align: right;\">        689</td><td style=\"text-align: right;\">          0</td><td style=\"text-align: right;\">          0</td><td style=\"text-align: right;\">          0</td><td style=\"text-align: right;\">         0</td><td style=\"text-align: right;\">       689</td><td style=\"text-align: right;\">         0</td><td style=\"text-align: right;\">         0</td><td style=\"text-align: right;\">         0</td><td style=\"text-align: right;\">         0</td><td style=\"text-align: right;\">                           1</td><td>No       </td></tr>\n",
       "<tr><td style=\"text-align: right;\">   2</td><td style=\"text-align: right;\">     120000</td><td>female</td><td>university </td><td>single    </td><td style=\"text-align: right;\">   26</td><td style=\"text-align: right;\">     -1</td><td style=\"text-align: right;\">      2</td><td style=\"text-align: right;\">      0</td><td style=\"text-align: right;\">      0</td><td style=\"text-align: right;\">      0</td><td style=\"text-align: right;\">      2</td><td style=\"text-align: right;\">       2682</td><td style=\"text-align: right;\">       1725</td><td style=\"text-align: right;\">       2682</td><td style=\"text-align: right;\">       3272</td><td style=\"text-align: right;\">       3455</td><td style=\"text-align: right;\">       3261</td><td style=\"text-align: right;\">         0</td><td style=\"text-align: right;\">      1000</td><td style=\"text-align: right;\">      1000</td><td style=\"text-align: right;\">      1000</td><td style=\"text-align: right;\">         0</td><td style=\"text-align: right;\">      2000</td><td style=\"text-align: right;\">                           1</td><td>No       </td></tr>\n",
       "<tr><td style=\"text-align: right;\">   3</td><td style=\"text-align: right;\">      90000</td><td>female</td><td>university </td><td>single    </td><td style=\"text-align: right;\">   34</td><td style=\"text-align: right;\">      0</td><td style=\"text-align: right;\">      0</td><td style=\"text-align: right;\">      0</td><td style=\"text-align: right;\">      0</td><td style=\"text-align: right;\">      0</td><td style=\"text-align: right;\">      0</td><td style=\"text-align: right;\">      29239</td><td style=\"text-align: right;\">      14027</td><td style=\"text-align: right;\">      13559</td><td style=\"text-align: right;\">      14331</td><td style=\"text-align: right;\">      14948</td><td style=\"text-align: right;\">      15549</td><td style=\"text-align: right;\">      1518</td><td style=\"text-align: right;\">      1500</td><td style=\"text-align: right;\">      1000</td><td style=\"text-align: right;\">      1000</td><td style=\"text-align: right;\">      1000</td><td style=\"text-align: right;\">      5000</td><td style=\"text-align: right;\">                           0</td><td>No       </td></tr>\n",
       "<tr><td style=\"text-align: right;\">   4</td><td style=\"text-align: right;\">      50000</td><td>female</td><td>university </td><td>married   </td><td style=\"text-align: right;\">   37</td><td style=\"text-align: right;\">      1</td><td style=\"text-align: right;\">      0</td><td style=\"text-align: right;\">      0</td><td style=\"text-align: right;\">      0</td><td style=\"text-align: right;\">      0</td><td style=\"text-align: right;\">      0</td><td style=\"text-align: right;\">      46990</td><td style=\"text-align: right;\">      48233</td><td style=\"text-align: right;\">      49291</td><td style=\"text-align: right;\">      28314</td><td style=\"text-align: right;\">      28959</td><td style=\"text-align: right;\">      29547</td><td style=\"text-align: right;\">      2000</td><td style=\"text-align: right;\">      2019</td><td style=\"text-align: right;\">      1200</td><td style=\"text-align: right;\">      1100</td><td style=\"text-align: right;\">      1069</td><td style=\"text-align: right;\">      1000</td><td style=\"text-align: right;\">                           0</td><td>No       </td></tr>\n",
       "<tr><td style=\"text-align: right;\">   5</td><td style=\"text-align: right;\">      50000</td><td>male  </td><td>university </td><td>married   </td><td style=\"text-align: right;\">   57</td><td style=\"text-align: right;\">      2</td><td style=\"text-align: right;\">      0</td><td style=\"text-align: right;\">     -1</td><td style=\"text-align: right;\">      0</td><td style=\"text-align: right;\">      0</td><td style=\"text-align: right;\">      0</td><td style=\"text-align: right;\">       8617</td><td style=\"text-align: right;\">       5670</td><td style=\"text-align: right;\">      35835</td><td style=\"text-align: right;\">      20940</td><td style=\"text-align: right;\">      19146</td><td style=\"text-align: right;\">      19131</td><td style=\"text-align: right;\">      2000</td><td style=\"text-align: right;\">     36681</td><td style=\"text-align: right;\">     10000</td><td style=\"text-align: right;\">      9000</td><td style=\"text-align: right;\">       689</td><td style=\"text-align: right;\">       679</td><td style=\"text-align: right;\">                           0</td><td>No       </td></tr>\n",
       "<tr><td style=\"text-align: right;\">   6</td><td style=\"text-align: right;\">      50000</td><td>male  </td><td>graduate   </td><td>single    </td><td style=\"text-align: right;\">   37</td><td style=\"text-align: right;\">      3</td><td style=\"text-align: right;\">      0</td><td style=\"text-align: right;\">      0</td><td style=\"text-align: right;\">      0</td><td style=\"text-align: right;\">      0</td><td style=\"text-align: right;\">      0</td><td style=\"text-align: right;\">      64400</td><td style=\"text-align: right;\">      57069</td><td style=\"text-align: right;\">      57608</td><td style=\"text-align: right;\">      19394</td><td style=\"text-align: right;\">      19619</td><td style=\"text-align: right;\">      20024</td><td style=\"text-align: right;\">      2500</td><td style=\"text-align: right;\">      1815</td><td style=\"text-align: right;\">       657</td><td style=\"text-align: right;\">      1000</td><td style=\"text-align: right;\">      1000</td><td style=\"text-align: right;\">       800</td><td style=\"text-align: right;\">                           0</td><td>No       </td></tr>\n",
       "<tr><td style=\"text-align: right;\">   7</td><td style=\"text-align: right;\">     500000</td><td>male  </td><td>graduate   </td><td>single    </td><td style=\"text-align: right;\">   29</td><td style=\"text-align: right;\">      4</td><td style=\"text-align: right;\">      0</td><td style=\"text-align: right;\">      0</td><td style=\"text-align: right;\">      0</td><td style=\"text-align: right;\">      0</td><td style=\"text-align: right;\">      0</td><td style=\"text-align: right;\">     367965</td><td style=\"text-align: right;\">     412023</td><td style=\"text-align: right;\">     445007</td><td style=\"text-align: right;\">     542653</td><td style=\"text-align: right;\">     483003</td><td style=\"text-align: right;\">     473944</td><td style=\"text-align: right;\">     55000</td><td style=\"text-align: right;\">     40000</td><td style=\"text-align: right;\">     38000</td><td style=\"text-align: right;\">     20239</td><td style=\"text-align: right;\">     13750</td><td style=\"text-align: right;\">     13770</td><td style=\"text-align: right;\">                           0</td><td>Yes      </td></tr>\n",
       "<tr><td style=\"text-align: right;\">   8</td><td style=\"text-align: right;\">     100000</td><td>female</td><td>university </td><td>single    </td><td style=\"text-align: right;\">   23</td><td style=\"text-align: right;\">      5</td><td style=\"text-align: right;\">     -1</td><td style=\"text-align: right;\">     -1</td><td style=\"text-align: right;\">      0</td><td style=\"text-align: right;\">      0</td><td style=\"text-align: right;\">     -1</td><td style=\"text-align: right;\">      11876</td><td style=\"text-align: right;\">        380</td><td style=\"text-align: right;\">        601</td><td style=\"text-align: right;\">        221</td><td style=\"text-align: right;\">       -159</td><td style=\"text-align: right;\">        567</td><td style=\"text-align: right;\">       380</td><td style=\"text-align: right;\">       601</td><td style=\"text-align: right;\">         0</td><td style=\"text-align: right;\">       581</td><td style=\"text-align: right;\">      1687</td><td style=\"text-align: right;\">      1542</td><td style=\"text-align: right;\">                           0</td><td>No       </td></tr>\n",
       "<tr><td style=\"text-align: right;\">   9</td><td style=\"text-align: right;\">     140000</td><td>female</td><td>highschool </td><td>married   </td><td style=\"text-align: right;\">   28</td><td style=\"text-align: right;\">      6</td><td style=\"text-align: right;\">      0</td><td style=\"text-align: right;\">      2</td><td style=\"text-align: right;\">      0</td><td style=\"text-align: right;\">      0</td><td style=\"text-align: right;\">      0</td><td style=\"text-align: right;\">      11285</td><td style=\"text-align: right;\">      14096</td><td style=\"text-align: right;\">      12108</td><td style=\"text-align: right;\">      12211</td><td style=\"text-align: right;\">      11793</td><td style=\"text-align: right;\">       3719</td><td style=\"text-align: right;\">      3329</td><td style=\"text-align: right;\">         0</td><td style=\"text-align: right;\">       432</td><td style=\"text-align: right;\">      1000</td><td style=\"text-align: right;\">      1000</td><td style=\"text-align: right;\">      1000</td><td style=\"text-align: right;\">                           0</td><td>No       </td></tr>\n",
       "<tr><td style=\"text-align: right;\">  10</td><td style=\"text-align: right;\">      20000</td><td>male  </td><td>highschool </td><td>single    </td><td style=\"text-align: right;\">   35</td><td style=\"text-align: right;\">      7</td><td style=\"text-align: right;\">     -2</td><td style=\"text-align: right;\">     -2</td><td style=\"text-align: right;\">     -2</td><td style=\"text-align: right;\">     -1</td><td style=\"text-align: right;\">     -1</td><td style=\"text-align: right;\">          0</td><td style=\"text-align: right;\">          0</td><td style=\"text-align: right;\">          0</td><td style=\"text-align: right;\">          0</td><td style=\"text-align: right;\">      13007</td><td style=\"text-align: right;\">      13912</td><td style=\"text-align: right;\">         0</td><td style=\"text-align: right;\">         0</td><td style=\"text-align: right;\">         0</td><td style=\"text-align: right;\">     13007</td><td style=\"text-align: right;\">      1122</td><td style=\"text-align: right;\">         0</td><td style=\"text-align: right;\">                           0</td><td>No       </td></tr>\n",
       "</tbody>\n",
       "</table>"
      ]
     },
     "metadata": {},
     "output_type": "display_data"
    },
    {
     "data": {
      "text/plain": []
     },
     "execution_count": 11,
     "metadata": {},
     "output_type": "execute_result"
    }
   ],
   "source": [
    "#Check if all the Training data is updated on the Cluster\n",
    "global_surrogate_data_train.head()"
   ]
  },
  {
   "cell_type": "code",
   "execution_count": 12,
   "metadata": {},
   "outputs": [],
   "source": [
    "#Check if all the Test data is updated on the Cluster\n",
    "#global_surrogate_data_test.head()"
   ]
  },
  {
   "cell_type": "code",
   "execution_count": 13,
   "metadata": {},
   "outputs": [],
   "source": [
    "# set predictors and response\n",
    "predictors = global_surrogate_data_train.columns\n",
    "predictors.remove('ID')\n",
    "response = \"DEFAULT_PAYMENT_NEXT_MONTH\""
   ]
  },
  {
   "cell_type": "code",
   "execution_count": 14,
   "metadata": {},
   "outputs": [],
   "source": [
    "# convert target to factor\n",
    "global_surrogate_data_train[response] = global_surrogate_data_train[response].asfactor()"
   ]
  },
  {
   "cell_type": "code",
   "execution_count": 15,
   "metadata": {},
   "outputs": [
    {
     "data": {
      "text/html": [
       "<table>\n",
       "<thead>\n",
       "<tr><th style=\"text-align: right;\">  ID</th><th style=\"text-align: right;\">  LIMIT_BAL</th><th>SEX   </th><th>EDUCATION  </th><th>MARRIAGE  </th><th style=\"text-align: right;\">  AGE</th><th style=\"text-align: right;\">  PAY_0</th><th style=\"text-align: right;\">  PAY_2</th><th style=\"text-align: right;\">  PAY_3</th><th style=\"text-align: right;\">  PAY_4</th><th style=\"text-align: right;\">  PAY_5</th><th style=\"text-align: right;\">  PAY_6</th><th style=\"text-align: right;\">  BILL_AMT1</th><th style=\"text-align: right;\">  BILL_AMT2</th><th style=\"text-align: right;\">  BILL_AMT3</th><th style=\"text-align: right;\">  BILL_AMT4</th><th style=\"text-align: right;\">  BILL_AMT5</th><th style=\"text-align: right;\">  BILL_AMT6</th><th style=\"text-align: right;\">  PAY_AMT1</th><th style=\"text-align: right;\">  PAY_AMT2</th><th style=\"text-align: right;\">  PAY_AMT3</th><th style=\"text-align: right;\">  PAY_AMT4</th><th style=\"text-align: right;\">  PAY_AMT5</th><th style=\"text-align: right;\">  PAY_AMT6</th><th style=\"text-align: right;\">  DEFAULT_PAYMENT_NEXT_MONTH</th><th>anomaly  </th></tr>\n",
       "</thead>\n",
       "<tbody>\n",
       "<tr><td style=\"text-align: right;\">   1</td><td style=\"text-align: right;\">      20000</td><td>female</td><td>university </td><td>married   </td><td style=\"text-align: right;\">   24</td><td style=\"text-align: right;\">     -2</td><td style=\"text-align: right;\">      2</td><td style=\"text-align: right;\">     -1</td><td style=\"text-align: right;\">     -1</td><td style=\"text-align: right;\">     -2</td><td style=\"text-align: right;\">     -2</td><td style=\"text-align: right;\">       3913</td><td style=\"text-align: right;\">       3102</td><td style=\"text-align: right;\">        689</td><td style=\"text-align: right;\">          0</td><td style=\"text-align: right;\">          0</td><td style=\"text-align: right;\">          0</td><td style=\"text-align: right;\">         0</td><td style=\"text-align: right;\">       689</td><td style=\"text-align: right;\">         0</td><td style=\"text-align: right;\">         0</td><td style=\"text-align: right;\">         0</td><td style=\"text-align: right;\">         0</td><td style=\"text-align: right;\">                           1</td><td>No       </td></tr>\n",
       "<tr><td style=\"text-align: right;\">   2</td><td style=\"text-align: right;\">     120000</td><td>female</td><td>university </td><td>single    </td><td style=\"text-align: right;\">   26</td><td style=\"text-align: right;\">     -1</td><td style=\"text-align: right;\">      2</td><td style=\"text-align: right;\">      0</td><td style=\"text-align: right;\">      0</td><td style=\"text-align: right;\">      0</td><td style=\"text-align: right;\">      2</td><td style=\"text-align: right;\">       2682</td><td style=\"text-align: right;\">       1725</td><td style=\"text-align: right;\">       2682</td><td style=\"text-align: right;\">       3272</td><td style=\"text-align: right;\">       3455</td><td style=\"text-align: right;\">       3261</td><td style=\"text-align: right;\">         0</td><td style=\"text-align: right;\">      1000</td><td style=\"text-align: right;\">      1000</td><td style=\"text-align: right;\">      1000</td><td style=\"text-align: right;\">         0</td><td style=\"text-align: right;\">      2000</td><td style=\"text-align: right;\">                           1</td><td>No       </td></tr>\n",
       "<tr><td style=\"text-align: right;\">   3</td><td style=\"text-align: right;\">      90000</td><td>female</td><td>university </td><td>single    </td><td style=\"text-align: right;\">   34</td><td style=\"text-align: right;\">      0</td><td style=\"text-align: right;\">      0</td><td style=\"text-align: right;\">      0</td><td style=\"text-align: right;\">      0</td><td style=\"text-align: right;\">      0</td><td style=\"text-align: right;\">      0</td><td style=\"text-align: right;\">      29239</td><td style=\"text-align: right;\">      14027</td><td style=\"text-align: right;\">      13559</td><td style=\"text-align: right;\">      14331</td><td style=\"text-align: right;\">      14948</td><td style=\"text-align: right;\">      15549</td><td style=\"text-align: right;\">      1518</td><td style=\"text-align: right;\">      1500</td><td style=\"text-align: right;\">      1000</td><td style=\"text-align: right;\">      1000</td><td style=\"text-align: right;\">      1000</td><td style=\"text-align: right;\">      5000</td><td style=\"text-align: right;\">                           0</td><td>No       </td></tr>\n",
       "<tr><td style=\"text-align: right;\">   4</td><td style=\"text-align: right;\">      50000</td><td>female</td><td>university </td><td>married   </td><td style=\"text-align: right;\">   37</td><td style=\"text-align: right;\">      1</td><td style=\"text-align: right;\">      0</td><td style=\"text-align: right;\">      0</td><td style=\"text-align: right;\">      0</td><td style=\"text-align: right;\">      0</td><td style=\"text-align: right;\">      0</td><td style=\"text-align: right;\">      46990</td><td style=\"text-align: right;\">      48233</td><td style=\"text-align: right;\">      49291</td><td style=\"text-align: right;\">      28314</td><td style=\"text-align: right;\">      28959</td><td style=\"text-align: right;\">      29547</td><td style=\"text-align: right;\">      2000</td><td style=\"text-align: right;\">      2019</td><td style=\"text-align: right;\">      1200</td><td style=\"text-align: right;\">      1100</td><td style=\"text-align: right;\">      1069</td><td style=\"text-align: right;\">      1000</td><td style=\"text-align: right;\">                           0</td><td>No       </td></tr>\n",
       "<tr><td style=\"text-align: right;\">   5</td><td style=\"text-align: right;\">      50000</td><td>male  </td><td>university </td><td>married   </td><td style=\"text-align: right;\">   57</td><td style=\"text-align: right;\">      2</td><td style=\"text-align: right;\">      0</td><td style=\"text-align: right;\">     -1</td><td style=\"text-align: right;\">      0</td><td style=\"text-align: right;\">      0</td><td style=\"text-align: right;\">      0</td><td style=\"text-align: right;\">       8617</td><td style=\"text-align: right;\">       5670</td><td style=\"text-align: right;\">      35835</td><td style=\"text-align: right;\">      20940</td><td style=\"text-align: right;\">      19146</td><td style=\"text-align: right;\">      19131</td><td style=\"text-align: right;\">      2000</td><td style=\"text-align: right;\">     36681</td><td style=\"text-align: right;\">     10000</td><td style=\"text-align: right;\">      9000</td><td style=\"text-align: right;\">       689</td><td style=\"text-align: right;\">       679</td><td style=\"text-align: right;\">                           0</td><td>No       </td></tr>\n",
       "<tr><td style=\"text-align: right;\">   6</td><td style=\"text-align: right;\">      50000</td><td>male  </td><td>graduate   </td><td>single    </td><td style=\"text-align: right;\">   37</td><td style=\"text-align: right;\">      3</td><td style=\"text-align: right;\">      0</td><td style=\"text-align: right;\">      0</td><td style=\"text-align: right;\">      0</td><td style=\"text-align: right;\">      0</td><td style=\"text-align: right;\">      0</td><td style=\"text-align: right;\">      64400</td><td style=\"text-align: right;\">      57069</td><td style=\"text-align: right;\">      57608</td><td style=\"text-align: right;\">      19394</td><td style=\"text-align: right;\">      19619</td><td style=\"text-align: right;\">      20024</td><td style=\"text-align: right;\">      2500</td><td style=\"text-align: right;\">      1815</td><td style=\"text-align: right;\">       657</td><td style=\"text-align: right;\">      1000</td><td style=\"text-align: right;\">      1000</td><td style=\"text-align: right;\">       800</td><td style=\"text-align: right;\">                           0</td><td>No       </td></tr>\n",
       "<tr><td style=\"text-align: right;\">   7</td><td style=\"text-align: right;\">     500000</td><td>male  </td><td>graduate   </td><td>single    </td><td style=\"text-align: right;\">   29</td><td style=\"text-align: right;\">      4</td><td style=\"text-align: right;\">      0</td><td style=\"text-align: right;\">      0</td><td style=\"text-align: right;\">      0</td><td style=\"text-align: right;\">      0</td><td style=\"text-align: right;\">      0</td><td style=\"text-align: right;\">     367965</td><td style=\"text-align: right;\">     412023</td><td style=\"text-align: right;\">     445007</td><td style=\"text-align: right;\">     542653</td><td style=\"text-align: right;\">     483003</td><td style=\"text-align: right;\">     473944</td><td style=\"text-align: right;\">     55000</td><td style=\"text-align: right;\">     40000</td><td style=\"text-align: right;\">     38000</td><td style=\"text-align: right;\">     20239</td><td style=\"text-align: right;\">     13750</td><td style=\"text-align: right;\">     13770</td><td style=\"text-align: right;\">                           0</td><td>Yes      </td></tr>\n",
       "<tr><td style=\"text-align: right;\">   8</td><td style=\"text-align: right;\">     100000</td><td>female</td><td>university </td><td>single    </td><td style=\"text-align: right;\">   23</td><td style=\"text-align: right;\">      5</td><td style=\"text-align: right;\">     -1</td><td style=\"text-align: right;\">     -1</td><td style=\"text-align: right;\">      0</td><td style=\"text-align: right;\">      0</td><td style=\"text-align: right;\">     -1</td><td style=\"text-align: right;\">      11876</td><td style=\"text-align: right;\">        380</td><td style=\"text-align: right;\">        601</td><td style=\"text-align: right;\">        221</td><td style=\"text-align: right;\">       -159</td><td style=\"text-align: right;\">        567</td><td style=\"text-align: right;\">       380</td><td style=\"text-align: right;\">       601</td><td style=\"text-align: right;\">         0</td><td style=\"text-align: right;\">       581</td><td style=\"text-align: right;\">      1687</td><td style=\"text-align: right;\">      1542</td><td style=\"text-align: right;\">                           0</td><td>No       </td></tr>\n",
       "<tr><td style=\"text-align: right;\">   9</td><td style=\"text-align: right;\">     140000</td><td>female</td><td>highschool </td><td>married   </td><td style=\"text-align: right;\">   28</td><td style=\"text-align: right;\">      6</td><td style=\"text-align: right;\">      0</td><td style=\"text-align: right;\">      2</td><td style=\"text-align: right;\">      0</td><td style=\"text-align: right;\">      0</td><td style=\"text-align: right;\">      0</td><td style=\"text-align: right;\">      11285</td><td style=\"text-align: right;\">      14096</td><td style=\"text-align: right;\">      12108</td><td style=\"text-align: right;\">      12211</td><td style=\"text-align: right;\">      11793</td><td style=\"text-align: right;\">       3719</td><td style=\"text-align: right;\">      3329</td><td style=\"text-align: right;\">         0</td><td style=\"text-align: right;\">       432</td><td style=\"text-align: right;\">      1000</td><td style=\"text-align: right;\">      1000</td><td style=\"text-align: right;\">      1000</td><td style=\"text-align: right;\">                           0</td><td>No       </td></tr>\n",
       "<tr><td style=\"text-align: right;\">  10</td><td style=\"text-align: right;\">      20000</td><td>male  </td><td>highschool </td><td>single    </td><td style=\"text-align: right;\">   35</td><td style=\"text-align: right;\">      7</td><td style=\"text-align: right;\">     -2</td><td style=\"text-align: right;\">     -2</td><td style=\"text-align: right;\">     -2</td><td style=\"text-align: right;\">     -1</td><td style=\"text-align: right;\">     -1</td><td style=\"text-align: right;\">          0</td><td style=\"text-align: right;\">          0</td><td style=\"text-align: right;\">          0</td><td style=\"text-align: right;\">          0</td><td style=\"text-align: right;\">      13007</td><td style=\"text-align: right;\">      13912</td><td style=\"text-align: right;\">         0</td><td style=\"text-align: right;\">         0</td><td style=\"text-align: right;\">         0</td><td style=\"text-align: right;\">     13007</td><td style=\"text-align: right;\">      1122</td><td style=\"text-align: right;\">         0</td><td style=\"text-align: right;\">                           0</td><td>No       </td></tr>\n",
       "</tbody>\n",
       "</table>"
      ]
     },
     "metadata": {},
     "output_type": "display_data"
    },
    {
     "data": {
      "text/plain": []
     },
     "execution_count": 15,
     "metadata": {},
     "output_type": "execute_result"
    }
   ],
   "source": [
    "# assign IDs for later use\n",
    "h2o.assign(global_surrogate_data_test, \"CreditCard_TEST\")\n",
    "h2o.assign(global_surrogate_data_train, \"CreditCard_TRAIN\")"
   ]
  },
  {
   "cell_type": "markdown",
   "metadata": {},
   "source": [
    "## Step 3 - Building Multiple Tuned Models with H2O-3 AutoML / Saving the model\n"
   ]
  },
  {
   "cell_type": "code",
   "execution_count": null,
   "metadata": {},
   "outputs": [
    {
     "name": "stdout",
     "output_type": "stream",
     "text": [
      "AutoML progress: |███"
     ]
    }
   ],
   "source": [
    "# build an AUTOML  Model (for the demo we keep the number of models built low)\n",
    "\n",
    "aml = H2OAutoML(max_models=4, seed=1234)\n",
    "aml.train(x = predictors, y = response, training_frame=global_surrogate_data_train)"
   ]
  },
  {
   "cell_type": "code",
   "execution_count": null,
   "metadata": {},
   "outputs": [],
   "source": [
    "# View the AutoML Leaderboard\n",
    "lb = aml.leaderboard\n",
    "lb.head(rows=lb.nrows)"
   ]
  },
  {
   "cell_type": "code",
   "execution_count": null,
   "metadata": {},
   "outputs": [],
   "source": [
    "aml.leader"
   ]
  },
  {
   "cell_type": "code",
   "execution_count": null,
   "metadata": {},
   "outputs": [],
   "source": [
    "preds = aml.predict(global_surrogate_data_test)"
   ]
  },
  {
   "cell_type": "code",
   "execution_count": null,
   "metadata": {},
   "outputs": [],
   "source": [
    "preds.head()"
   ]
  },
  {
   "cell_type": "code",
   "execution_count": null,
   "metadata": {},
   "outputs": [],
   "source": [
    "aml.leader.model_performance(test)"
   ]
  },
  {
   "cell_type": "code",
   "execution_count": null,
   "metadata": {},
   "outputs": [],
   "source": [
    "# Get model ids for all models in the AutoML Leaderboard\n",
    "model_ids = list(aml.leaderboard['model_id'].as_data_frame().iloc[:,0])\n",
    "# Get the \"All Models\" Stacked Ensemble model\n",
    "se = h2o.get_model([mid for mid in model_ids if \"StackedEnsemble_AllModels\" in mid][0])\n",
    "# Get the Stacked Ensemble metalearner model\n",
    "metalearner = h2o.get_model(se.metalearner()['name'])"
   ]
  },
  {
   "cell_type": "code",
   "execution_count": null,
   "metadata": {},
   "outputs": [],
   "source": [
    "metalearner.coef_norm()"
   ]
  },
  {
   "cell_type": "code",
   "execution_count": null,
   "metadata": {},
   "outputs": [],
   "source": [
    "%matplotlib inline\n",
    "metalearner.std_coef_plot()"
   ]
  },
  {
   "cell_type": "markdown",
   "metadata": {},
   "source": [
    "## Saving the Model for External Deployment"
   ]
  },
  {
   "cell_type": "code",
   "execution_count": null,
   "metadata": {},
   "outputs": [],
   "source": [
    "h2o.save_model(aml.leader, path = \"./credit_card_bin\")\n",
    "aml.leader.download_mojo(path = \"./credit_card_bin\")"
   ]
  },
  {
   "cell_type": "markdown",
   "metadata": {},
   "source": [
    "## Step 4 - Introducting Explainability for H2O-3 Algorithms\n",
    "H2O-3 now supports the generation of Shapley Values on H2O-3's Gradient Boosted Machine (GBM), Distributed Random Forest (DRF), and XGBoost. For this example we'll use Boston House Prices dataset and H2O-3's DRF algo."
   ]
  },
  {
   "cell_type": "code",
   "execution_count": null,
   "metadata": {},
   "outputs": [],
   "source": [
    "import shap\n",
    "from h2o.estimators.random_forest import H2ORandomForestEstimator\n",
    "from h2o import H2OFrame"
   ]
  },
  {
   "cell_type": "code",
   "execution_count": null,
   "metadata": {},
   "outputs": [],
   "source": [
    "X, y = shap.datasets.boston()\n",
    "boston_housing = H2OFrame(X).cbind(H2OFrame(y, column_names=[\"medv\"]))\n",
    "\n",
    "boston_housing.head()"
   ]
  },
  {
   "cell_type": "code",
   "execution_count": null,
   "metadata": {},
   "outputs": [],
   "source": [
    "x = ['CRIM',\n",
    " 'ZN',\n",
    " 'INDUS',\n",
    " 'CHAS',\n",
    " 'NOX',\n",
    " 'RM',\n",
    " 'AGE',\n",
    " 'DIS',\n",
    " 'RAD',\n",
    " 'TAX',\n",
    " 'PTRATIO',\n",
    " 'B',\n",
    " 'LSTAT']"
   ]
  },
  {
   "cell_type": "code",
   "execution_count": null,
   "metadata": {},
   "outputs": [],
   "source": [
    "# load JS visualization code to notebook\n",
    "shap.initjs()"
   ]
  },
  {
   "cell_type": "code",
   "execution_count": null,
   "metadata": {},
   "outputs": [],
   "source": [
    "# train a DRF model in H2O\n",
    "\n",
    "model = H2ORandomForestEstimator(ntrees=100)\n",
    "model.train(training_frame=boston_housing, y=\"medv\")"
   ]
  },
  {
   "cell_type": "code",
   "execution_count": null,
   "metadata": {},
   "outputs": [],
   "source": [
    "model"
   ]
  },
  {
   "cell_type": "code",
   "execution_count": null,
   "metadata": {},
   "outputs": [],
   "source": [
    "# calculate SHAP values using function predict_contributions\n",
    "contributions = model.predict_contributions(boston_housing)"
   ]
  },
  {
   "cell_type": "code",
   "execution_count": null,
   "metadata": {},
   "outputs": [],
   "source": [
    "# convert the H2O Frame to use with shap's visualization functions\n",
    "contributions_matrix = contributions.as_data_frame().as_matrix()\n",
    "#contributions_matrix"
   ]
  },
  {
   "cell_type": "code",
   "execution_count": null,
   "metadata": {},
   "outputs": [],
   "source": [
    "# shap values are calculated for all features\n",
    "shap_values = contributions_matrix[:,0:13]\n",
    "shap_values.shape"
   ]
  },
  {
   "cell_type": "code",
   "execution_count": null,
   "metadata": {},
   "outputs": [],
   "source": [
    "# expected values is the last returned column\n",
    "expected_value = contributions_matrix[:,13].min()\n",
    "expected_value"
   ]
  },
  {
   "cell_type": "code",
   "execution_count": null,
   "metadata": {},
   "outputs": [],
   "source": [
    "# visualize the first prediction's explanation\n",
    "shap.force_plot(expected_value, shap_values[0,:], X.iloc[0,:])"
   ]
  },
  {
   "cell_type": "code",
   "execution_count": null,
   "metadata": {},
   "outputs": [],
   "source": [
    "# visualize the training set predictions\n",
    "shap.force_plot(expected_value, shap_values, X)"
   ]
  },
  {
   "cell_type": "code",
   "execution_count": null,
   "metadata": {},
   "outputs": [],
   "source": [
    "# create a SHAP dependence plot to show the effect of a single feature across the whole dataset\n",
    "shap.dependence_plot(\"RM\", shap_values, X)"
   ]
  },
  {
   "cell_type": "code",
   "execution_count": null,
   "metadata": {},
   "outputs": [],
   "source": [
    "# summarize the effects of all the features\n",
    "shap.summary_plot(shap_values, X)"
   ]
  },
  {
   "cell_type": "code",
   "execution_count": null,
   "metadata": {},
   "outputs": [],
   "source": [
    "shap.summary_plot(shap_values, X, plot_type=\"bar\")"
   ]
  },
  {
   "cell_type": "markdown",
   "metadata": {},
   "source": [
    "## Step 5 - Introducing Generalized Additive Models & Parallel SVM"
   ]
  },
  {
   "cell_type": "code",
   "execution_count": null,
   "metadata": {},
   "outputs": [],
   "source": [
    "# create frame knots\n",
    "knots1 = [-1.99905699, -0.98143075, 0.02599159, 1.00770987, 1.99942290]\n",
    "frameKnots1 = h2o.H2OFrame(python_obj=knots1)\n",
    "knots2 = [-1.999821861, -1.005257990, -0.006716042, 1.002197392, 1.999073589]\n",
    "frameKnots2 = h2o.H2OFrame(python_obj=knots2)\n",
    "knots3 = [-1.999675688, -0.979893796, 0.007573327,1.011437347, 1.999611676]\n",
    "frameKnots3 = h2o.H2OFrame(python_obj=knots3)"
   ]
  },
  {
   "cell_type": "code",
   "execution_count": null,
   "metadata": {},
   "outputs": [],
   "source": [
    "# import the dataset\n",
    "h2o_data = h2o.import_file(\"https://s3.amazonaws.com/h2o-public-test-data/smalldata/glm_test/multinomial_10_classes_10_cols_10000_Rows_train.csv\")"
   ]
  },
  {
   "cell_type": "code",
   "execution_count": null,
   "metadata": {},
   "outputs": [],
   "source": [
    "h2o_data.head()"
   ]
  },
  {
   "cell_type": "code",
   "execution_count": null,
   "metadata": {},
   "outputs": [],
   "source": [
    "#convert the C1, C2, and C11 columns to factors\n",
    "h2o_data[\"C1\"] = h2o_data[\"C1\"].asfactor()\n",
    "h2o_data[\"C2\"] = h2o_data[\"C2\"].asfactor()\n",
    "h2o_data[\"C11\"] = h2o_data[\"C11\"].asfactor()"
   ]
  },
  {
   "cell_type": "code",
   "execution_count": null,
   "metadata": {},
   "outputs": [],
   "source": [
    "# split into train and validation sets\n",
    "train, test = h2o_data.split_frame(ratios = [.8])\n",
    "\n",
    "# set the predictor and response columns\n",
    "y = \"C11\"\n",
    "x = [\"C1\",\"C2\"]\n",
    "\n",
    "# specify the knots array\n",
    "numKnots = [5,5,5]\n",
    "\n",
    "# build the GAM model\n",
    "h2o_model = H2OGeneralizedAdditiveEstimator(family='multinomial',\n",
    "                                            gam_columns=[\"C6\",\"C7\",\"C8\"],\n",
    "                                            scale=[1,1,1],\n",
    "                                            num_knots=numKnots,\n",
    "                                            knot_ids=[frameKnots1.key, frameKnots2.key, frameKnots3.key])\n",
    "h2o_model.train(x=x, y=y, training_frame=train)\n",
    "\n"
   ]
  },
  {
   "cell_type": "code",
   "execution_count": null,
   "metadata": {},
   "outputs": [],
   "source": [
    "# get the model coefficients\n",
    "h2oCoeffs = h2o_model.coef()\n",
    "\n",
    "# generate predictions using the test data\n",
    "pred = h2o_model.predict(test)"
   ]
  },
  {
   "cell_type": "code",
   "execution_count": null,
   "metadata": {},
   "outputs": [],
   "source": [
    "print (pred)"
   ]
  },
  {
   "cell_type": "code",
   "execution_count": null,
   "metadata": {},
   "outputs": [],
   "source": []
  },
  {
   "cell_type": "code",
   "execution_count": null,
   "metadata": {},
   "outputs": [],
   "source": [
    "from h2o.estimators import H2OSupportVectorMachineEstimator\n",
    "\n",
    "\n",
    "# Import the splice dataset into H2O:\n",
    "splice = h2o.import_file(\"http://h2o-public-test-data.s3.amazonaws.com/smalldata/splice/splice.svm\")\n",
    "\n"
   ]
  },
  {
   "cell_type": "code",
   "execution_count": null,
   "metadata": {},
   "outputs": [],
   "source": [
    "# Build and train the model:\n",
    "svm_model = H2OSupportVectorMachineEstimator(gamma=0.01,\n",
    "                                             rank_ratio = 0.1,\n",
    "                                             disable_training_metrics = False)\n",
    "svm_model.train(y = \"C1\", training_frame = splice)\n",
    "\n"
   ]
  },
  {
   "cell_type": "code",
   "execution_count": null,
   "metadata": {},
   "outputs": [],
   "source": [
    "# Eval performance:\n",
    "perf = svm_model.model_performance()\n",
    "\n",
    "# Generate predictions (if necessary):\n",
    "pred = svm_model.predict(splice)"
   ]
  },
  {
   "cell_type": "code",
   "execution_count": null,
   "metadata": {},
   "outputs": [],
   "source": [
    "print (perf)"
   ]
  },
  {
   "cell_type": "code",
   "execution_count": null,
   "metadata": {},
   "outputs": [],
   "source": [
    "print (pred)"
   ]
  }
 ],
 "metadata": {
  "kernelspec": {
   "display_name": "Python 3",
   "language": "python",
   "name": "python3"
  },
  "language_info": {
   "codemirror_mode": {
    "name": "ipython",
    "version": 3
   },
   "file_extension": ".py",
   "mimetype": "text/x-python",
   "name": "python",
   "nbconvert_exporter": "python",
   "pygments_lexer": "ipython3",
   "version": "3.7.6"
  }
 },
 "nbformat": 4,
 "nbformat_minor": 4
}
