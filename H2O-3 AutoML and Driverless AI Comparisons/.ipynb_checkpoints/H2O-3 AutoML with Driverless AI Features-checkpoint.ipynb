{
 "cells": [
  {
   "cell_type": "markdown",
   "metadata": {},
   "source": [
    "# H2O-3's AutoML vs Driverless AI (with Auto Feature Engineering)\n",
    "\n",
    "Load the same data set in H2O-3's AutoML and Driverless AI. Compare and contrast if the Driverless AI's Feature Engineering is 'squeezing' out more performance. Evaluate the Train and Test MAE's the raw data set in AutoML and then the Feature Engineered one from Driverless back into AutoML.\n"
   ]
  },
  {
   "cell_type": "code",
   "execution_count": 1,
   "metadata": {},
   "outputs": [],
   "source": [
    "#Import H2O libiraries\n",
    "import h2o\n",
    "from h2o.automl import H2OAutoML"
   ]
  },
  {
   "cell_type": "code",
   "execution_count": 2,
   "metadata": {},
   "outputs": [
    {
     "name": "stdout",
     "output_type": "stream",
     "text": [
      "Checking whether there is an H2O instance running at http://localhost:54321 ..... not found.\n",
      "Attempting to start a local H2O server...\n",
      "  Java Version: openjdk version \"1.8.0_152-release\"; OpenJDK Runtime Environment (build 1.8.0_152-release-1056-b12); OpenJDK 64-Bit Server VM (build 25.152-b12, mixed mode)\n",
      "  Starting server from /Users/thomasott/opt/anaconda3/envs/py37/lib/python3.7/site-packages/h2o/backend/bin/h2o.jar\n",
      "  Ice root: /var/folders/9c/tqhnrz3x207bf8pzjxjhkm100000gn/T/tmp99hg826j\n",
      "  JVM stdout: /var/folders/9c/tqhnrz3x207bf8pzjxjhkm100000gn/T/tmp99hg826j/h2o_thomasott_started_from_python.out\n",
      "  JVM stderr: /var/folders/9c/tqhnrz3x207bf8pzjxjhkm100000gn/T/tmp99hg826j/h2o_thomasott_started_from_python.err\n",
      "  Server is running at http://127.0.0.1:54321\n",
      "Connecting to H2O server at http://127.0.0.1:54321 ... successful.\n"
     ]
    },
    {
     "data": {
      "text/html": [
       "<div style=\"overflow:auto\"><table style=\"width:50%\"><tr><td>H2O cluster uptime:</td>\n",
       "<td>01 secs</td></tr>\n",
       "<tr><td>H2O cluster timezone:</td>\n",
       "<td>America/New_York</td></tr>\n",
       "<tr><td>H2O data parsing timezone:</td>\n",
       "<td>UTC</td></tr>\n",
       "<tr><td>H2O cluster version:</td>\n",
       "<td>3.28.0.2</td></tr>\n",
       "<tr><td>H2O cluster version age:</td>\n",
       "<td>1 month and 4 days </td></tr>\n",
       "<tr><td>H2O cluster name:</td>\n",
       "<td>cluster-buster</td></tr>\n",
       "<tr><td>H2O cluster total nodes:</td>\n",
       "<td>1</td></tr>\n",
       "<tr><td>H2O cluster free memory:</td>\n",
       "<td>7.667 Gb</td></tr>\n",
       "<tr><td>H2O cluster total cores:</td>\n",
       "<td>8</td></tr>\n",
       "<tr><td>H2O cluster allowed cores:</td>\n",
       "<td>8</td></tr>\n",
       "<tr><td>H2O cluster status:</td>\n",
       "<td>accepting new members, healthy</td></tr>\n",
       "<tr><td>H2O connection url:</td>\n",
       "<td>http://127.0.0.1:54321</td></tr>\n",
       "<tr><td>H2O connection proxy:</td>\n",
       "<td>{'http': None, 'https': None}</td></tr>\n",
       "<tr><td>H2O internal security:</td>\n",
       "<td>False</td></tr>\n",
       "<tr><td>H2O API Extensions:</td>\n",
       "<td>Amazon S3, XGBoost, Algos, AutoML, Core V3, TargetEncoder, Core V4</td></tr>\n",
       "<tr><td>Python version:</td>\n",
       "<td>3.7.6 final</td></tr></table></div>"
      ],
      "text/plain": [
       "--------------------------  ------------------------------------------------------------------\n",
       "H2O cluster uptime:         01 secs\n",
       "H2O cluster timezone:       America/New_York\n",
       "H2O data parsing timezone:  UTC\n",
       "H2O cluster version:        3.28.0.2\n",
       "H2O cluster version age:    1 month and 4 days\n",
       "H2O cluster name:           cluster-buster\n",
       "H2O cluster total nodes:    1\n",
       "H2O cluster free memory:    7.667 Gb\n",
       "H2O cluster total cores:    8\n",
       "H2O cluster allowed cores:  8\n",
       "H2O cluster status:         accepting new members, healthy\n",
       "H2O connection url:         http://127.0.0.1:54321\n",
       "H2O connection proxy:       {'http': None, 'https': None}\n",
       "H2O internal security:      False\n",
       "H2O API Extensions:         Amazon S3, XGBoost, Algos, AutoML, Core V3, TargetEncoder, Core V4\n",
       "Python version:             3.7.6 final\n",
       "--------------------------  ------------------------------------------------------------------"
      ]
     },
     "metadata": {},
     "output_type": "display_data"
    }
   ],
   "source": [
    "#Initialize local H2O Cluster\n",
    "h2o.init(min_mem_size='8G', name='cluster-buster')"
   ]
  },
  {
   "cell_type": "code",
   "execution_count": 3,
   "metadata": {},
   "outputs": [
    {
     "name": "stdout",
     "output_type": "stream",
     "text": [
      "Parse progress: |█████████████████████████████████████████████████████████| 100%\n"
     ]
    }
   ],
   "source": [
    "#Load in Loan Loss Training Set\n",
    "#train = h2o.import_file('./data/train_v2.csv')\n",
    "my_data = h2o.import_file('./data/train_v2.csv')"
   ]
  },
  {
   "cell_type": "code",
   "execution_count": 4,
   "metadata": {},
   "outputs": [],
   "source": [
    "train,test = my_data.split_frame(ratios=[.7])"
   ]
  },
  {
   "cell_type": "code",
   "execution_count": 5,
   "metadata": {},
   "outputs": [],
   "source": [
    "# Set target and predictor variables\n",
    "y = \"loss\"\n",
    "x = train.col_names\n",
    "x.remove(y)\n",
    "\n",
    "#Drop the ID column\n",
    "x.remove(\"id\")"
   ]
  },
  {
   "cell_type": "code",
   "execution_count": 6,
   "metadata": {},
   "outputs": [
    {
     "name": "stdout",
     "output_type": "stream",
     "text": [
      "AutoML progress: |████████████████████████████████████████████████████████| 100%\n"
     ]
    }
   ],
   "source": [
    "#Call H2O-3 AutoML. Set early stopping metric to MAE and CV Folds = 5\n",
    "aml = H2OAutoML(max_models = 10, seed=1234, stopping_metric = \"MAE\", sort_metric = \"MAE\", nfolds = 5)\n",
    "aml.train(x=x, y=y, training_frame=train)"
   ]
  },
  {
   "cell_type": "code",
   "execution_count": 7,
   "metadata": {},
   "outputs": [
    {
     "data": {
      "text/html": [
       "<table>\n",
       "<thead>\n",
       "<tr><th>model_id                                           </th><th style=\"text-align: right;\">    mae</th><th style=\"text-align: right;\">  mean_residual_deviance</th><th style=\"text-align: right;\">   rmse</th><th style=\"text-align: right;\">    mse</th><th style=\"text-align: right;\">     rmsle</th></tr>\n",
       "</thead>\n",
       "<tbody>\n",
       "<tr><td>XGBoost_3_AutoML_20200225_115914                   </td><td style=\"text-align: right;\">1.46113</td><td style=\"text-align: right;\">                 19.8157</td><td style=\"text-align: right;\">4.45148</td><td style=\"text-align: right;\">19.8157</td><td style=\"text-align: right;\">  0.728169</td></tr>\n",
       "<tr><td>XGBoost_1_AutoML_20200225_115914                   </td><td style=\"text-align: right;\">1.46444</td><td style=\"text-align: right;\">                 19.94  </td><td style=\"text-align: right;\">4.46543</td><td style=\"text-align: right;\">19.94  </td><td style=\"text-align: right;\">  0.734998</td></tr>\n",
       "<tr><td>XGBoost_2_AutoML_20200225_115914                   </td><td style=\"text-align: right;\">1.47659</td><td style=\"text-align: right;\">                 19.9842</td><td style=\"text-align: right;\">4.47037</td><td style=\"text-align: right;\">19.9842</td><td style=\"text-align: right;\">nan       </td></tr>\n",
       "<tr><td>StackedEnsemble_AllModels_AutoML_20200225_115914   </td><td style=\"text-align: right;\">1.48171</td><td style=\"text-align: right;\">                 19.7464</td><td style=\"text-align: right;\">4.44369</td><td style=\"text-align: right;\">19.7464</td><td style=\"text-align: right;\">nan       </td></tr>\n",
       "<tr><td>StackedEnsemble_BestOfFamily_AutoML_20200225_115914</td><td style=\"text-align: right;\">1.48382</td><td style=\"text-align: right;\">                 19.7672</td><td style=\"text-align: right;\">4.44603</td><td style=\"text-align: right;\">19.7672</td><td style=\"text-align: right;\">nan       </td></tr>\n",
       "<tr><td>GBM_2_AutoML_20200225_115914                       </td><td style=\"text-align: right;\">1.48416</td><td style=\"text-align: right;\">                 19.9109</td><td style=\"text-align: right;\">4.46216</td><td style=\"text-align: right;\">19.9109</td><td style=\"text-align: right;\">nan       </td></tr>\n",
       "<tr><td>GLM_1_AutoML_20200225_115914                       </td><td style=\"text-align: right;\">1.48791</td><td style=\"text-align: right;\">                 19.7957</td><td style=\"text-align: right;\">4.44924</td><td style=\"text-align: right;\">19.7957</td><td style=\"text-align: right;\">nan       </td></tr>\n",
       "<tr><td>GBM_5_AutoML_20200225_115914                       </td><td style=\"text-align: right;\">1.48796</td><td style=\"text-align: right;\">                 19.8627</td><td style=\"text-align: right;\">4.45676</td><td style=\"text-align: right;\">19.8627</td><td style=\"text-align: right;\">nan       </td></tr>\n",
       "<tr><td>GBM_3_AutoML_20200225_115914                       </td><td style=\"text-align: right;\">1.48815</td><td style=\"text-align: right;\">                 19.9096</td><td style=\"text-align: right;\">4.46202</td><td style=\"text-align: right;\">19.9096</td><td style=\"text-align: right;\">nan       </td></tr>\n",
       "<tr><td>GBM_1_AutoML_20200225_115914                       </td><td style=\"text-align: right;\">1.48846</td><td style=\"text-align: right;\">                 20.1486</td><td style=\"text-align: right;\">4.48872</td><td style=\"text-align: right;\">20.1486</td><td style=\"text-align: right;\">nan       </td></tr>\n",
       "<tr><td>GBM_4_AutoML_20200225_115914                       </td><td style=\"text-align: right;\">1.49158</td><td style=\"text-align: right;\">                 19.9845</td><td style=\"text-align: right;\">4.47041</td><td style=\"text-align: right;\">19.9845</td><td style=\"text-align: right;\">nan       </td></tr>\n",
       "<tr><td>DRF_1_AutoML_20200225_115914                       </td><td style=\"text-align: right;\">1.52891</td><td style=\"text-align: right;\">                 20.5689</td><td style=\"text-align: right;\">4.5353 </td><td style=\"text-align: right;\">20.5689</td><td style=\"text-align: right;\">  0.763595</td></tr>\n",
       "</tbody>\n",
       "</table>"
      ]
     },
     "metadata": {},
     "output_type": "display_data"
    },
    {
     "data": {
      "text/plain": []
     },
     "execution_count": 7,
     "metadata": {},
     "output_type": "execute_result"
    }
   ],
   "source": [
    "#Example LeaderBoard (Note: my small CPU can only train a single model, run this on a larger machine!)\n",
    "lb = aml.leaderboard\n",
    "lb.head(rows=lb.nrows)"
   ]
  },
  {
   "cell_type": "markdown",
   "metadata": {},
   "source": [
    "Select the AutoML leader and apply test data set to it."
   ]
  },
  {
   "cell_type": "code",
   "execution_count": 8,
   "metadata": {},
   "outputs": [],
   "source": [
    "best_model = aml.leader.model_performance(test).mae()"
   ]
  },
  {
   "cell_type": "markdown",
   "metadata": {},
   "source": [
    "Get the 'best_model' test performance."
   ]
  },
  {
   "cell_type": "code",
   "execution_count": 9,
   "metadata": {},
   "outputs": [
    {
     "data": {
      "text/plain": [
       "1.393881910643572"
      ]
     },
     "execution_count": 9,
     "metadata": {},
     "output_type": "execute_result"
    }
   ],
   "source": [
    "best_model"
   ]
  },
  {
   "cell_type": "code",
   "execution_count": 10,
   "metadata": {},
   "outputs": [
    {
     "name": "stdout",
     "output_type": "stream",
     "text": [
      "Parse progress: |█████████████████████████████████████████████████████████| 100%\n"
     ]
    }
   ],
   "source": [
    "#Import Driverless AI transformed features from oringal training Set\n",
    "my_data_munged = h2o.import_file('./data/train_v2.zip.1575494585.3482676.bin.munged_train.csv')"
   ]
  },
  {
   "cell_type": "code",
   "execution_count": 11,
   "metadata": {},
   "outputs": [],
   "source": [
    "train,test = my_data_munged.split_frame(ratios=[.7])"
   ]
  },
  {
   "cell_type": "code",
   "execution_count": 12,
   "metadata": {},
   "outputs": [
    {
     "data": {
      "text/html": [
       "<table>\n",
       "<thead>\n",
       "<tr><th style=\"text-align: right;\">  306_f39</th><th style=\"text-align: right;\">  380_f46</th><th style=\"text-align: right;\">  407_f493</th><th style=\"text-align: right;\">  783_ClusterDist50:f170:f517:f766.5</th><th style=\"text-align: right;\">  783_ClusterDist50:f170:f517:f766.6</th><th style=\"text-align: right;\">  783_ClusterDist50:f170:f517:f766.7</th><th style=\"text-align: right;\">  783_ClusterDist50:f170:f517:f766.9</th><th style=\"text-align: right;\">  783_ClusterDist50:f170:f517:f766.10</th><th style=\"text-align: right;\">  loss</th></tr>\n",
       "</thead>\n",
       "<tbody>\n",
       "<tr><td style=\"text-align: right;\">  0.7471 </td><td style=\"text-align: right;\">  0.80819</td><td style=\"text-align: right;\">    124   </td><td style=\"text-align: right;\">                             3.04902</td><td style=\"text-align: right;\">                             3.70761</td><td style=\"text-align: right;\">                             2.21696</td><td style=\"text-align: right;\">                             3.53115</td><td style=\"text-align: right;\">                              2.47696</td><td style=\"text-align: right;\">     0</td></tr>\n",
       "<tr><td style=\"text-align: right;\">  0.77405</td><td style=\"text-align: right;\">  0.8207 </td><td style=\"text-align: right;\">    903   </td><td style=\"text-align: right;\">                             5.23919</td><td style=\"text-align: right;\">                             3.15662</td><td style=\"text-align: right;\">                             1.08105</td><td style=\"text-align: right;\">                             5.94185</td><td style=\"text-align: right;\">                              4.17258</td><td style=\"text-align: right;\">     0</td></tr>\n",
       "<tr><td style=\"text-align: right;\">  0.78385</td><td style=\"text-align: right;\">  0.86382</td><td style=\"text-align: right;\">    130.94</td><td style=\"text-align: right;\">                             4.65057</td><td style=\"text-align: right;\">                             2.7428 </td><td style=\"text-align: right;\">                             1.28935</td><td style=\"text-align: right;\">                             5.13865</td><td style=\"text-align: right;\">                              3.25539</td><td style=\"text-align: right;\">     0</td></tr>\n",
       "<tr><td style=\"text-align: right;\">  0.79085</td><td style=\"text-align: right;\">  0.82485</td><td style=\"text-align: right;\">    399   </td><td style=\"text-align: right;\">                             1.9061 </td><td style=\"text-align: right;\">                             4.80431</td><td style=\"text-align: right;\">                             3.01405</td><td style=\"text-align: right;\">                             2.78507</td><td style=\"text-align: right;\">                              2.98162</td><td style=\"text-align: right;\">     0</td></tr>\n",
       "<tr><td style=\"text-align: right;\">  0.7269 </td><td style=\"text-align: right;\">  0.89431</td><td style=\"text-align: right;\">    836.75</td><td style=\"text-align: right;\">                             3.71168</td><td style=\"text-align: right;\">                             3.10235</td><td style=\"text-align: right;\">                             2.00807</td><td style=\"text-align: right;\">                             4.07024</td><td style=\"text-align: right;\">                              2.66102</td><td style=\"text-align: right;\">     1</td></tr>\n",
       "<tr><td style=\"text-align: right;\">  0.7995 </td><td style=\"text-align: right;\">  0.88271</td><td style=\"text-align: right;\">     82   </td><td style=\"text-align: right;\">                             4.05847</td><td style=\"text-align: right;\">                             3.72011</td><td style=\"text-align: right;\">                             1.46525</td><td style=\"text-align: right;\">                             4.88991</td><td style=\"text-align: right;\">                              3.85273</td><td style=\"text-align: right;\">     0</td></tr>\n",
       "<tr><td style=\"text-align: right;\">  0.78255</td><td style=\"text-align: right;\">  0.8171 </td><td style=\"text-align: right;\">    655.99</td><td style=\"text-align: right;\">                             3.82943</td><td style=\"text-align: right;\">                             2.81248</td><td style=\"text-align: right;\">                             2.98224</td><td style=\"text-align: right;\">                             3.56421</td><td style=\"text-align: right;\">                              1.55374</td><td style=\"text-align: right;\">     0</td></tr>\n",
       "<tr><td style=\"text-align: right;\">  0.8034 </td><td style=\"text-align: right;\">  0.93131</td><td style=\"text-align: right;\">    299   </td><td style=\"text-align: right;\">                             5.03231</td><td style=\"text-align: right;\">                             1.61661</td><td style=\"text-align: right;\">                             2.9867 </td><td style=\"text-align: right;\">                             4.81117</td><td style=\"text-align: right;\">                              2.60366</td><td style=\"text-align: right;\">    16</td></tr>\n",
       "<tr><td style=\"text-align: right;\">  0.82245</td><td style=\"text-align: right;\">  0.9    </td><td style=\"text-align: right;\">     42.97</td><td style=\"text-align: right;\">                             3.60227</td><td style=\"text-align: right;\">                             3.23619</td><td style=\"text-align: right;\">                             1.95323</td><td style=\"text-align: right;\">                             4.02183</td><td style=\"text-align: right;\">                              2.68071</td><td style=\"text-align: right;\">     0</td></tr>\n",
       "<tr><td style=\"text-align: right;\">  0.76405</td><td style=\"text-align: right;\">  0.80422</td><td style=\"text-align: right;\">    785   </td><td style=\"text-align: right;\">                             4.57044</td><td style=\"text-align: right;\">                             2.06931</td><td style=\"text-align: right;\">                             3.03125</td><td style=\"text-align: right;\">                             4.30213</td><td style=\"text-align: right;\">                              2.27379</td><td style=\"text-align: right;\">     0</td></tr>\n",
       "</tbody>\n",
       "</table>"
      ]
     },
     "metadata": {},
     "output_type": "display_data"
    },
    {
     "data": {
      "text/plain": []
     },
     "execution_count": 12,
     "metadata": {},
     "output_type": "execute_result"
    }
   ],
   "source": [
    "#Check out the munged dataset\n",
    "train"
   ]
  },
  {
   "cell_type": "code",
   "execution_count": 13,
   "metadata": {},
   "outputs": [],
   "source": [
    "# Set target and predictor variables\n",
    "y = \"loss\"\n",
    "x = train.col_names\n",
    "x.remove(y)"
   ]
  },
  {
   "cell_type": "code",
   "execution_count": 14,
   "metadata": {},
   "outputs": [
    {
     "name": "stdout",
     "output_type": "stream",
     "text": [
      "AutoML progress: |████████████████████████████████████████████████████████| 100%\n"
     ]
    }
   ],
   "source": [
    "#Run another AutoML with munged data set\n",
    "aml_munge = H2OAutoML(max_models = 10, seed=1234, stopping_metric = \"MAE\", sort_metric = \"MAE\", nfolds = 5)\n",
    "aml_munge.train(x=x, y=y, training_frame=train)"
   ]
  },
  {
   "cell_type": "code",
   "execution_count": 15,
   "metadata": {},
   "outputs": [
    {
     "data": {
      "text/html": [
       "<table>\n",
       "<thead>\n",
       "<tr><th>model_id                                           </th><th style=\"text-align: right;\">     mae</th><th style=\"text-align: right;\">  mean_residual_deviance</th><th style=\"text-align: right;\">   rmse</th><th style=\"text-align: right;\">    mse</th><th style=\"text-align: right;\">     rmsle</th></tr>\n",
       "</thead>\n",
       "<tbody>\n",
       "<tr><td>DeepLearning_grid__2_AutoML_20200225_140150_model_1</td><td style=\"text-align: right;\">0.951571</td><td style=\"text-align: right;\">                 19.0482</td><td style=\"text-align: right;\">4.36442</td><td style=\"text-align: right;\">19.0482</td><td style=\"text-align: right;\">nan       </td></tr>\n",
       "<tr><td>DeepLearning_grid__1_AutoML_20200225_140150_model_1</td><td style=\"text-align: right;\">0.963559</td><td style=\"text-align: right;\">                 19.228 </td><td style=\"text-align: right;\">4.38497</td><td style=\"text-align: right;\">19.228 </td><td style=\"text-align: right;\">nan       </td></tr>\n",
       "<tr><td>DeepLearning_1_AutoML_20200225_140150              </td><td style=\"text-align: right;\">1.21543 </td><td style=\"text-align: right;\">                 18.7741</td><td style=\"text-align: right;\">4.33291</td><td style=\"text-align: right;\">18.7741</td><td style=\"text-align: right;\">nan       </td></tr>\n",
       "<tr><td>XGBoost_grid__1_AutoML_20200225_140150_model_1     </td><td style=\"text-align: right;\">1.38965 </td><td style=\"text-align: right;\">                 18.7391</td><td style=\"text-align: right;\">4.32887</td><td style=\"text-align: right;\">18.7391</td><td style=\"text-align: right;\">  0.716022</td></tr>\n",
       "<tr><td>XGBoost_3_AutoML_20200225_140150                   </td><td style=\"text-align: right;\">1.41063 </td><td style=\"text-align: right;\">                 18.6989</td><td style=\"text-align: right;\">4.32422</td><td style=\"text-align: right;\">18.6989</td><td style=\"text-align: right;\">nan       </td></tr>\n",
       "<tr><td>XGBoost_grid__1_AutoML_20200225_140150_model_2     </td><td style=\"text-align: right;\">1.41079 </td><td style=\"text-align: right;\">                 18.6808</td><td style=\"text-align: right;\">4.32213</td><td style=\"text-align: right;\">18.6808</td><td style=\"text-align: right;\">  0.717532</td></tr>\n",
       "<tr><td>XGBoost_1_AutoML_20200225_140150                   </td><td style=\"text-align: right;\">1.41265 </td><td style=\"text-align: right;\">                 18.8048</td><td style=\"text-align: right;\">4.33645</td><td style=\"text-align: right;\">18.8048</td><td style=\"text-align: right;\">  0.728388</td></tr>\n",
       "<tr><td>XGBoost_grid__1_AutoML_20200225_140150_model_3     </td><td style=\"text-align: right;\">1.4195  </td><td style=\"text-align: right;\">                 19.0051</td><td style=\"text-align: right;\">4.35948</td><td style=\"text-align: right;\">19.0051</td><td style=\"text-align: right;\">  0.726911</td></tr>\n",
       "<tr><td>StackedEnsemble_BestOfFamily_AutoML_20200225_140150</td><td style=\"text-align: right;\">1.42807 </td><td style=\"text-align: right;\">                 18.6226</td><td style=\"text-align: right;\">4.31539</td><td style=\"text-align: right;\">18.6226</td><td style=\"text-align: right;\">  0.720902</td></tr>\n",
       "<tr><td>StackedEnsemble_AllModels_AutoML_20200225_140150   </td><td style=\"text-align: right;\">1.4284  </td><td style=\"text-align: right;\">                 18.6249</td><td style=\"text-align: right;\">4.31566</td><td style=\"text-align: right;\">18.6249</td><td style=\"text-align: right;\">  0.721562</td></tr>\n",
       "<tr><td>GBM_grid__1_AutoML_20200225_140150_model_1         </td><td style=\"text-align: right;\">1.42866 </td><td style=\"text-align: right;\">                 18.6223</td><td style=\"text-align: right;\">4.31535</td><td style=\"text-align: right;\">18.6223</td><td style=\"text-align: right;\">  0.721128</td></tr>\n",
       "<tr><td>GLM_1_AutoML_20200225_140150                       </td><td style=\"text-align: right;\">1.42899 </td><td style=\"text-align: right;\">                 18.6225</td><td style=\"text-align: right;\">4.31538</td><td style=\"text-align: right;\">18.6225</td><td style=\"text-align: right;\">  0.721274</td></tr>\n",
       "<tr><td>XGBoost_2_AutoML_20200225_140150                   </td><td style=\"text-align: right;\">1.43001 </td><td style=\"text-align: right;\">                 18.9498</td><td style=\"text-align: right;\">4.35314</td><td style=\"text-align: right;\">18.9498</td><td style=\"text-align: right;\">nan       </td></tr>\n",
       "<tr><td>GBM_2_AutoML_20200225_140150                       </td><td style=\"text-align: right;\">1.43083 </td><td style=\"text-align: right;\">                 18.738 </td><td style=\"text-align: right;\">4.32874</td><td style=\"text-align: right;\">18.738 </td><td style=\"text-align: right;\">nan       </td></tr>\n",
       "<tr><td>GBM_3_AutoML_20200225_140150                       </td><td style=\"text-align: right;\">1.43454 </td><td style=\"text-align: right;\">                 18.7364</td><td style=\"text-align: right;\">4.32856</td><td style=\"text-align: right;\">18.7364</td><td style=\"text-align: right;\">nan       </td></tr>\n",
       "<tr><td>GBM_5_AutoML_20200225_140150                       </td><td style=\"text-align: right;\">1.43735 </td><td style=\"text-align: right;\">                 18.7516</td><td style=\"text-align: right;\">4.33032</td><td style=\"text-align: right;\">18.7516</td><td style=\"text-align: right;\">  0.73948 </td></tr>\n",
       "<tr><td>GBM_4_AutoML_20200225_140150                       </td><td style=\"text-align: right;\">1.43936 </td><td style=\"text-align: right;\">                 18.8109</td><td style=\"text-align: right;\">4.33715</td><td style=\"text-align: right;\">18.8109</td><td style=\"text-align: right;\">nan       </td></tr>\n",
       "<tr><td>GBM_1_AutoML_20200225_140150                       </td><td style=\"text-align: right;\">1.44283 </td><td style=\"text-align: right;\">                 19.1071</td><td style=\"text-align: right;\">4.37117</td><td style=\"text-align: right;\">19.1071</td><td style=\"text-align: right;\">nan       </td></tr>\n",
       "<tr><td>XGBoost_grid__1_AutoML_20200225_140150_model_4     </td><td style=\"text-align: right;\">1.47879 </td><td style=\"text-align: right;\">                 19.5425</td><td style=\"text-align: right;\">4.42068</td><td style=\"text-align: right;\">19.5425</td><td style=\"text-align: right;\">nan       </td></tr>\n",
       "<tr><td>XRT_1_AutoML_20200225_140150                       </td><td style=\"text-align: right;\">1.49735 </td><td style=\"text-align: right;\">                 19.3754</td><td style=\"text-align: right;\">4.40175</td><td style=\"text-align: right;\">19.3754</td><td style=\"text-align: right;\">  0.781226</td></tr>\n",
       "<tr><td>DRF_1_AutoML_20200225_140150                       </td><td style=\"text-align: right;\">1.5056  </td><td style=\"text-align: right;\">                 19.4526</td><td style=\"text-align: right;\">4.41051</td><td style=\"text-align: right;\">19.4526</td><td style=\"text-align: right;\">  0.786954</td></tr>\n",
       "<tr><td>GBM_grid__1_AutoML_20200225_140150_model_2         </td><td style=\"text-align: right;\">1.6232  </td><td style=\"text-align: right;\">                 19.9614</td><td style=\"text-align: right;\">4.46782</td><td style=\"text-align: right;\">19.9614</td><td style=\"text-align: right;\">nan       </td></tr>\n",
       "</tbody>\n",
       "</table>"
      ]
     },
     "metadata": {},
     "output_type": "display_data"
    },
    {
     "data": {
      "text/plain": []
     },
     "execution_count": 15,
     "metadata": {},
     "output_type": "execute_result"
    }
   ],
   "source": [
    "#check out top models (note the munged data set makes training faster)\n",
    "lb = aml_munge.leaderboard\n",
    "lb.head(rows=lb.nrows)"
   ]
  },
  {
   "cell_type": "code",
   "execution_count": 16,
   "metadata": {},
   "outputs": [],
   "source": [
    "best_model = aml_munge.leader.model_performance(test).mae()"
   ]
  },
  {
   "cell_type": "code",
   "execution_count": 17,
   "metadata": {},
   "outputs": [
    {
     "data": {
      "text/plain": [
       "6.927857999672322"
      ]
     },
     "execution_count": 17,
     "metadata": {},
     "output_type": "execute_result"
    }
   ],
   "source": [
    "best_model"
   ]
  },
  {
   "cell_type": "code",
   "execution_count": 18,
   "metadata": {},
   "outputs": [
    {
     "name": "stdout",
     "output_type": "stream",
     "text": [
      "H2O session _sid_b599 closed.\n"
     ]
    }
   ],
   "source": [
    "h2o.cluster().shutdown()"
   ]
  }
 ],
 "metadata": {
  "kernelspec": {
   "display_name": "Python 3",
   "language": "python",
   "name": "python3"
  },
  "language_info": {
   "codemirror_mode": {
    "name": "ipython",
    "version": 3
   },
   "file_extension": ".py",
   "mimetype": "text/x-python",
   "name": "python",
   "nbconvert_exporter": "python",
   "pygments_lexer": "ipython3",
   "version": "3.7.6"
  }
 },
 "nbformat": 4,
 "nbformat_minor": 2
}
