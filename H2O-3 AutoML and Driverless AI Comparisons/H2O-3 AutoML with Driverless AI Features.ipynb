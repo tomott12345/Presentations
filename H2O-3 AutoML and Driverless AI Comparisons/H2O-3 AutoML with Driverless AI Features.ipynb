{
 "cells": [
  {
   "cell_type": "code",
   "execution_count": 1,
   "metadata": {},
   "outputs": [],
   "source": [
    "#Import H2O libiraries\n",
    "import h2o\n",
    "from h2o.automl import H2OAutoML"
   ]
  },
  {
   "cell_type": "code",
   "execution_count": 2,
   "metadata": {},
   "outputs": [
    {
     "name": "stdout",
     "output_type": "stream",
     "text": [
      "Checking whether there is an H2O instance running at http://localhost:54321 ..... not found.\n",
      "Attempting to start a local H2O server...\n",
      "  Java Version: openjdk version \"1.8.0_152-release\"; OpenJDK Runtime Environment (build 1.8.0_152-release-1056-b12); OpenJDK 64-Bit Server VM (build 25.152-b12, mixed mode)\n",
      "  Starting server from /Users/thomasott/anaconda3/lib/python3.7/site-packages/h2o/backend/bin/h2o.jar\n",
      "  Ice root: /var/folders/9c/tqhnrz3x207bf8pzjxjhkm100000gn/T/tmpe7cd2hgj\n",
      "  JVM stdout: /var/folders/9c/tqhnrz3x207bf8pzjxjhkm100000gn/T/tmpe7cd2hgj/h2o_thomasott_started_from_python.out\n",
      "  JVM stderr: /var/folders/9c/tqhnrz3x207bf8pzjxjhkm100000gn/T/tmpe7cd2hgj/h2o_thomasott_started_from_python.err\n",
      "  Server is running at http://127.0.0.1:54321\n",
      "Connecting to H2O server at http://127.0.0.1:54321 ... successful.\n",
      "Warning: Your H2O cluster version is too old (7 months and 10 days)! Please download and install the latest version from http://h2o.ai/download/\n"
     ]
    },
    {
     "data": {
      "text/html": [
       "<div style=\"overflow:auto\"><table style=\"width:50%\"><tr><td>H2O cluster uptime:</td>\n",
       "<td>01 secs</td></tr>\n",
       "<tr><td>H2O cluster timezone:</td>\n",
       "<td>America/New_York</td></tr>\n",
       "<tr><td>H2O data parsing timezone:</td>\n",
       "<td>UTC</td></tr>\n",
       "<tr><td>H2O cluster version:</td>\n",
       "<td>3.24.0.3</td></tr>\n",
       "<tr><td>H2O cluster version age:</td>\n",
       "<td>7 months and 10 days !!!</td></tr>\n",
       "<tr><td>H2O cluster name:</td>\n",
       "<td>H2O_from_python_thomasott_xvp6ua</td></tr>\n",
       "<tr><td>H2O cluster total nodes:</td>\n",
       "<td>1</td></tr>\n",
       "<tr><td>H2O cluster free memory:</td>\n",
       "<td>3.556 Gb</td></tr>\n",
       "<tr><td>H2O cluster total cores:</td>\n",
       "<td>8</td></tr>\n",
       "<tr><td>H2O cluster allowed cores:</td>\n",
       "<td>8</td></tr>\n",
       "<tr><td>H2O cluster status:</td>\n",
       "<td>accepting new members, healthy</td></tr>\n",
       "<tr><td>H2O connection url:</td>\n",
       "<td>http://127.0.0.1:54321</td></tr>\n",
       "<tr><td>H2O connection proxy:</td>\n",
       "<td>None</td></tr>\n",
       "<tr><td>H2O internal security:</td>\n",
       "<td>False</td></tr>\n",
       "<tr><td>H2O API Extensions:</td>\n",
       "<td>Amazon S3, XGBoost, Algos, AutoML, Core V3, Core V4</td></tr>\n",
       "<tr><td>Python version:</td>\n",
       "<td>3.7.1 final</td></tr></table></div>"
      ],
      "text/plain": [
       "--------------------------  ---------------------------------------------------\n",
       "H2O cluster uptime:         01 secs\n",
       "H2O cluster timezone:       America/New_York\n",
       "H2O data parsing timezone:  UTC\n",
       "H2O cluster version:        3.24.0.3\n",
       "H2O cluster version age:    7 months and 10 days !!!\n",
       "H2O cluster name:           H2O_from_python_thomasott_xvp6ua\n",
       "H2O cluster total nodes:    1\n",
       "H2O cluster free memory:    3.556 Gb\n",
       "H2O cluster total cores:    8\n",
       "H2O cluster allowed cores:  8\n",
       "H2O cluster status:         accepting new members, healthy\n",
       "H2O connection url:         http://127.0.0.1:54321\n",
       "H2O connection proxy:\n",
       "H2O internal security:      False\n",
       "H2O API Extensions:         Amazon S3, XGBoost, Algos, AutoML, Core V3, Core V4\n",
       "Python version:             3.7.1 final\n",
       "--------------------------  ---------------------------------------------------"
      ]
     },
     "metadata": {},
     "output_type": "display_data"
    }
   ],
   "source": [
    "#Initialize local H2O Cluster\n",
    "h2o.init()"
   ]
  },
  {
   "cell_type": "code",
   "execution_count": 3,
   "metadata": {},
   "outputs": [
    {
     "name": "stdout",
     "output_type": "stream",
     "text": [
      "Parse progress: |█████████████████████████████████████████████████████████| 100%\n"
     ]
    }
   ],
   "source": [
    "#Load in Loan Loss Training Set\n",
    "train = h2o.import_file('./data/train_v2.csv')"
   ]
  },
  {
   "cell_type": "code",
   "execution_count": 4,
   "metadata": {},
   "outputs": [],
   "source": [
    "# Set target and predictor variables\n",
    "y = \"loss\"\n",
    "x = train.col_names\n",
    "x.remove(y)\n",
    "x.remove(\"id\")"
   ]
  },
  {
   "cell_type": "code",
   "execution_count": 5,
   "metadata": {},
   "outputs": [
    {
     "name": "stdout",
     "output_type": "stream",
     "text": [
      "AutoML progress: |████████████████████████████████████████████████████████| 100%\n"
     ]
    }
   ],
   "source": [
    "#Call H2O-3 AutoML. Set early stopping metric to MAE and CV Folds = 5\n",
    "aml = H2OAutoML(max_models = 20, seed=1234, stopping_metric = \"MAE\", sort_metric = \"MAE\", nfolds = 5)\n",
    "aml.train(x=x, y=y, training_frame=train)"
   ]
  },
  {
   "cell_type": "code",
   "execution_count": 6,
   "metadata": {},
   "outputs": [
    {
     "data": {
      "text/html": [
       "<table>\n",
       "<thead>\n",
       "<tr><th>model_id                        </th><th style=\"text-align: right;\">  mean_residual_deviance</th><th style=\"text-align: right;\">   rmse</th><th style=\"text-align: right;\">    mse</th><th style=\"text-align: right;\">    mae</th><th style=\"text-align: right;\">  rmsle</th></tr>\n",
       "</thead>\n",
       "<tbody>\n",
       "<tr><td>XGBoost_1_AutoML_20191217_082049</td><td style=\"text-align: right;\">                 18.6435</td><td style=\"text-align: right;\">4.31782</td><td style=\"text-align: right;\">18.6435</td><td style=\"text-align: right;\">1.42045</td><td style=\"text-align: right;\">0.72176</td></tr>\n",
       "</tbody>\n",
       "</table>"
      ]
     },
     "metadata": {},
     "output_type": "display_data"
    },
    {
     "data": {
      "text/plain": []
     },
     "execution_count": 6,
     "metadata": {},
     "output_type": "execute_result"
    }
   ],
   "source": [
    "#Example LeaderBoard (Note: my small CPU can only train a single model, run this on a larger machine!)\n",
    "lb = aml.leaderboard\n",
    "lb.head(rows=lb.nrows)"
   ]
  },
  {
   "cell_type": "code",
   "execution_count": 7,
   "metadata": {},
   "outputs": [
    {
     "name": "stdout",
     "output_type": "stream",
     "text": [
      "Parse progress: |█████████████████████████████████████████████████████████| 100%\n"
     ]
    }
   ],
   "source": [
    "#Import Driverless AI transformed features from oringal training Set\n",
    "train = h2o.import_file('./data/train_v2.zip.1575494585.3482676.bin.munged_train.csv')"
   ]
  },
  {
   "cell_type": "code",
   "execution_count": 9,
   "metadata": {},
   "outputs": [
    {
     "data": {
      "text/html": [
       "<table>\n",
       "<thead>\n",
       "<tr><th style=\"text-align: right;\">  306_f39</th><th style=\"text-align: right;\">  380_f46</th><th style=\"text-align: right;\">  407_f493</th><th style=\"text-align: right;\">  783_ClusterDist50:f170:f517:f766.5</th><th style=\"text-align: right;\">  783_ClusterDist50:f170:f517:f766.6</th><th style=\"text-align: right;\">  783_ClusterDist50:f170:f517:f766.7</th><th style=\"text-align: right;\">  783_ClusterDist50:f170:f517:f766.9</th><th style=\"text-align: right;\">  783_ClusterDist50:f170:f517:f766.10</th><th style=\"text-align: right;\">  loss</th></tr>\n",
       "</thead>\n",
       "<tbody>\n",
       "<tr><td style=\"text-align: right;\">  0.65705</td><td style=\"text-align: right;\">  0.70127</td><td style=\"text-align: right;\">     19.72</td><td style=\"text-align: right;\">                             4.18907</td><td style=\"text-align: right;\">                             3.46873</td><td style=\"text-align: right;\">                             4.04611</td><td style=\"text-align: right;\">                             3.43021</td><td style=\"text-align: right;\">                              0      </td><td style=\"text-align: right;\">     0</td></tr>\n",
       "<tr><td style=\"text-align: right;\">  0.7471 </td><td style=\"text-align: right;\">  0.80819</td><td style=\"text-align: right;\">    124   </td><td style=\"text-align: right;\">                             3.04902</td><td style=\"text-align: right;\">                             3.70761</td><td style=\"text-align: right;\">                             2.21696</td><td style=\"text-align: right;\">                             3.53115</td><td style=\"text-align: right;\">                              2.47696</td><td style=\"text-align: right;\">     0</td></tr>\n",
       "<tr><td style=\"text-align: right;\">  0.77405</td><td style=\"text-align: right;\">  0.8207 </td><td style=\"text-align: right;\">    903   </td><td style=\"text-align: right;\">                             5.23919</td><td style=\"text-align: right;\">                             3.15662</td><td style=\"text-align: right;\">                             1.08105</td><td style=\"text-align: right;\">                             5.94185</td><td style=\"text-align: right;\">                              4.17258</td><td style=\"text-align: right;\">     0</td></tr>\n",
       "<tr><td style=\"text-align: right;\">  0.78385</td><td style=\"text-align: right;\">  0.86382</td><td style=\"text-align: right;\">    130.94</td><td style=\"text-align: right;\">                             4.65057</td><td style=\"text-align: right;\">                             2.7428 </td><td style=\"text-align: right;\">                             1.28935</td><td style=\"text-align: right;\">                             5.13865</td><td style=\"text-align: right;\">                              3.25539</td><td style=\"text-align: right;\">     0</td></tr>\n",
       "<tr><td style=\"text-align: right;\">  0.79085</td><td style=\"text-align: right;\">  0.82485</td><td style=\"text-align: right;\">    399   </td><td style=\"text-align: right;\">                             1.9061 </td><td style=\"text-align: right;\">                             4.80431</td><td style=\"text-align: right;\">                             3.01405</td><td style=\"text-align: right;\">                             2.78507</td><td style=\"text-align: right;\">                              2.98162</td><td style=\"text-align: right;\">     0</td></tr>\n",
       "<tr><td style=\"text-align: right;\">  0.7269 </td><td style=\"text-align: right;\">  0.89431</td><td style=\"text-align: right;\">    836.75</td><td style=\"text-align: right;\">                             3.71168</td><td style=\"text-align: right;\">                             3.10235</td><td style=\"text-align: right;\">                             2.00807</td><td style=\"text-align: right;\">                             4.07024</td><td style=\"text-align: right;\">                              2.66102</td><td style=\"text-align: right;\">     1</td></tr>\n",
       "<tr><td style=\"text-align: right;\">  0.76075</td><td style=\"text-align: right;\">  0.92268</td><td style=\"text-align: right;\">    252.92</td><td style=\"text-align: right;\">                             2.8794 </td><td style=\"text-align: right;\">                             4.33658</td><td style=\"text-align: right;\">                             2.02854</td><td style=\"text-align: right;\">                             3.86323</td><td style=\"text-align: right;\">                              3.37263</td><td style=\"text-align: right;\">     0</td></tr>\n",
       "<tr><td style=\"text-align: right;\">  0.7995 </td><td style=\"text-align: right;\">  0.88271</td><td style=\"text-align: right;\">     82   </td><td style=\"text-align: right;\">                             4.05847</td><td style=\"text-align: right;\">                             3.72011</td><td style=\"text-align: right;\">                             1.46525</td><td style=\"text-align: right;\">                             4.88991</td><td style=\"text-align: right;\">                              3.85273</td><td style=\"text-align: right;\">     0</td></tr>\n",
       "<tr><td style=\"text-align: right;\">  0.7868 </td><td style=\"text-align: right;\">  0.84464</td><td style=\"text-align: right;\">     82.5 </td><td style=\"text-align: right;\">                             4.26453</td><td style=\"text-align: right;\">                             2.37536</td><td style=\"text-align: right;\">                             2.40069</td><td style=\"text-align: right;\">                             4.26683</td><td style=\"text-align: right;\">                              2.21446</td><td style=\"text-align: right;\">     0</td></tr>\n",
       "<tr><td style=\"text-align: right;\">  0.74885</td><td style=\"text-align: right;\">  0.80162</td><td style=\"text-align: right;\">    399   </td><td style=\"text-align: right;\">                             4.31491</td><td style=\"text-align: right;\">                             2.28665</td><td style=\"text-align: right;\">                             2.83093</td><td style=\"text-align: right;\">                             4.097  </td><td style=\"text-align: right;\">                              1.89826</td><td style=\"text-align: right;\">     0</td></tr>\n",
       "</tbody>\n",
       "</table>"
      ]
     },
     "metadata": {},
     "output_type": "display_data"
    },
    {
     "data": {
      "text/plain": []
     },
     "execution_count": 9,
     "metadata": {},
     "output_type": "execute_result"
    }
   ],
   "source": [
    "#Check out the munged dataset\n",
    "train"
   ]
  },
  {
   "cell_type": "code",
   "execution_count": 10,
   "metadata": {},
   "outputs": [],
   "source": [
    "# Set target and predictor variables\n",
    "y = \"loss\"\n",
    "x = train.col_names\n",
    "x.remove(y)"
   ]
  },
  {
   "cell_type": "code",
   "execution_count": 12,
   "metadata": {},
   "outputs": [
    {
     "name": "stdout",
     "output_type": "stream",
     "text": [
      "AutoML progress: |████████████████████████████████████████████████████████| 100%\n"
     ]
    }
   ],
   "source": [
    "#Run another AutoML with munged data set\n",
    "aml_munge = H2OAutoML(max_models = 20, seed=1234, stopping_metric = \"MAE\", sort_metric = \"MAE\", nfolds = 5)\n",
    "aml_munge.train(x=x, y=y, training_frame=train)"
   ]
  },
  {
   "cell_type": "code",
   "execution_count": 13,
   "metadata": {},
   "outputs": [
    {
     "data": {
      "text/html": [
       "<table>\n",
       "<thead>\n",
       "<tr><th>model_id                                           </th><th style=\"text-align: right;\">  mean_residual_deviance</th><th style=\"text-align: right;\">   rmse</th><th style=\"text-align: right;\">    mse</th><th style=\"text-align: right;\">    mae</th><th style=\"text-align: right;\">     rmsle</th></tr>\n",
       "</thead>\n",
       "<tbody>\n",
       "<tr><td>DeepLearning_grid_1_AutoML_20191217_092436_model_2 </td><td style=\"text-align: right;\">                 19.7147</td><td style=\"text-align: right;\">4.44012</td><td style=\"text-align: right;\">19.7147</td><td style=\"text-align: right;\">1.03178</td><td style=\"text-align: right;\">nan       </td></tr>\n",
       "<tr><td>DeepLearning_grid_1_AutoML_20191217_092436_model_1 </td><td style=\"text-align: right;\">                 19.6976</td><td style=\"text-align: right;\">4.43819</td><td style=\"text-align: right;\">19.6976</td><td style=\"text-align: right;\">1.05991</td><td style=\"text-align: right;\">nan       </td></tr>\n",
       "<tr><td>DeepLearning_1_AutoML_20191217_092436              </td><td style=\"text-align: right;\">                 19.4548</td><td style=\"text-align: right;\">4.41076</td><td style=\"text-align: right;\">19.4548</td><td style=\"text-align: right;\">1.25196</td><td style=\"text-align: right;\">nan       </td></tr>\n",
       "<tr><td>XGBoost_grid_1_AutoML_20191217_092436_model_1      </td><td style=\"text-align: right;\">                 19.3854</td><td style=\"text-align: right;\">4.40289</td><td style=\"text-align: right;\">19.3854</td><td style=\"text-align: right;\">1.26134</td><td style=\"text-align: right;\">  0.659004</td></tr>\n",
       "<tr><td>XGBoost_3_AutoML_20191217_092436                   </td><td style=\"text-align: right;\">                 19.354 </td><td style=\"text-align: right;\">4.39932</td><td style=\"text-align: right;\">19.354 </td><td style=\"text-align: right;\">1.39207</td><td style=\"text-align: right;\">  0.705898</td></tr>\n",
       "<tr><td>XGBoost_2_AutoML_20191217_092436                   </td><td style=\"text-align: right;\">                 19.5139</td><td style=\"text-align: right;\">4.41745</td><td style=\"text-align: right;\">19.5139</td><td style=\"text-align: right;\">1.39248</td><td style=\"text-align: right;\">  0.724708</td></tr>\n",
       "<tr><td>XGBoost_1_AutoML_20191217_092436                   </td><td style=\"text-align: right;\">                 19.4913</td><td style=\"text-align: right;\">4.4149 </td><td style=\"text-align: right;\">19.4913</td><td style=\"text-align: right;\">1.4231 </td><td style=\"text-align: right;\">  0.727983</td></tr>\n",
       "<tr><td>GBM_grid_1_AutoML_20191217_092436_model_3          </td><td style=\"text-align: right;\">                 19.3288</td><td style=\"text-align: right;\">4.39645</td><td style=\"text-align: right;\">19.3288</td><td style=\"text-align: right;\">1.44458</td><td style=\"text-align: right;\">  0.724869</td></tr>\n",
       "<tr><td>StackedEnsemble_AllModels_AutoML_20191217_092436   </td><td style=\"text-align: right;\">                 19.329 </td><td style=\"text-align: right;\">4.39647</td><td style=\"text-align: right;\">19.329 </td><td style=\"text-align: right;\">1.44486</td><td style=\"text-align: right;\">  0.725021</td></tr>\n",
       "<tr><td>GBM_grid_1_AutoML_20191217_092436_model_1          </td><td style=\"text-align: right;\">                 19.3282</td><td style=\"text-align: right;\">4.39638</td><td style=\"text-align: right;\">19.3282</td><td style=\"text-align: right;\">1.44492</td><td style=\"text-align: right;\">  0.724951</td></tr>\n",
       "<tr><td>GBM_grid_1_AutoML_20191217_092436_model_2          </td><td style=\"text-align: right;\">                 19.335 </td><td style=\"text-align: right;\">4.39716</td><td style=\"text-align: right;\">19.335 </td><td style=\"text-align: right;\">1.44507</td><td style=\"text-align: right;\">  0.725372</td></tr>\n",
       "<tr><td>StackedEnsemble_BestOfFamily_AutoML_20191217_092436</td><td style=\"text-align: right;\">                 19.3292</td><td style=\"text-align: right;\">4.3965 </td><td style=\"text-align: right;\">19.3292</td><td style=\"text-align: right;\">1.44565</td><td style=\"text-align: right;\">  0.725281</td></tr>\n",
       "<tr><td>GLM_grid_1_AutoML_20191217_092436_model_1          </td><td style=\"text-align: right;\">                 19.3269</td><td style=\"text-align: right;\">4.39623</td><td style=\"text-align: right;\">19.3269</td><td style=\"text-align: right;\">1.44571</td><td style=\"text-align: right;\">  0.725234</td></tr>\n",
       "<tr><td>GBM_2_AutoML_20191217_092436                       </td><td style=\"text-align: right;\">                 19.4156</td><td style=\"text-align: right;\">4.40631</td><td style=\"text-align: right;\">19.4156</td><td style=\"text-align: right;\">1.44609</td><td style=\"text-align: right;\">  0.731039</td></tr>\n",
       "<tr><td>GBM_3_AutoML_20191217_092436                       </td><td style=\"text-align: right;\">                 19.4458</td><td style=\"text-align: right;\">4.40974</td><td style=\"text-align: right;\">19.4458</td><td style=\"text-align: right;\">1.44633</td><td style=\"text-align: right;\">nan       </td></tr>\n",
       "<tr><td>GBM_1_AutoML_20191217_092436                       </td><td style=\"text-align: right;\">                 19.5389</td><td style=\"text-align: right;\">4.42028</td><td style=\"text-align: right;\">19.5389</td><td style=\"text-align: right;\">1.44916</td><td style=\"text-align: right;\">nan       </td></tr>\n",
       "<tr><td>GBM_5_AutoML_20191217_092436                       </td><td style=\"text-align: right;\">                 19.4671</td><td style=\"text-align: right;\">4.41215</td><td style=\"text-align: right;\">19.4671</td><td style=\"text-align: right;\">1.44918</td><td style=\"text-align: right;\">  0.741014</td></tr>\n",
       "<tr><td>GBM_4_AutoML_20191217_092436                       </td><td style=\"text-align: right;\">                 19.5369</td><td style=\"text-align: right;\">4.42005</td><td style=\"text-align: right;\">19.5369</td><td style=\"text-align: right;\">1.45266</td><td style=\"text-align: right;\">nan       </td></tr>\n",
       "<tr><td>XRT_1_AutoML_20191217_092436                       </td><td style=\"text-align: right;\">                 21.4974</td><td style=\"text-align: right;\">4.63652</td><td style=\"text-align: right;\">21.4974</td><td style=\"text-align: right;\">1.5208 </td><td style=\"text-align: right;\">  0.801557</td></tr>\n",
       "<tr><td>DRF_1_AutoML_20191217_092436                       </td><td style=\"text-align: right;\">                 21.2895</td><td style=\"text-align: right;\">4.61406</td><td style=\"text-align: right;\">21.2895</td><td style=\"text-align: right;\">1.52579</td><td style=\"text-align: right;\">  0.804513</td></tr>\n",
       "</tbody>\n",
       "</table>"
      ]
     },
     "metadata": {},
     "output_type": "display_data"
    },
    {
     "data": {
      "text/plain": []
     },
     "execution_count": 13,
     "metadata": {},
     "output_type": "execute_result"
    }
   ],
   "source": [
    "#check out top models (note the munged data set makes training faster)\n",
    "lb = aml_munge.leaderboard\n",
    "lb.head(rows=lb.nrows)"
   ]
  },
  {
   "cell_type": "code",
   "execution_count": 14,
   "metadata": {},
   "outputs": [
    {
     "name": "stdout",
     "output_type": "stream",
     "text": [
      "H2O session _sid_92c3 closed.\n"
     ]
    }
   ],
   "source": [
    "h2o.cluster().shutdown()"
   ]
  },
  {
   "cell_type": "code",
   "execution_count": null,
   "metadata": {},
   "outputs": [],
   "source": []
  }
 ],
 "metadata": {
  "kernelspec": {
   "display_name": "Python 3",
   "language": "python",
   "name": "python3"
  },
  "language_info": {
   "codemirror_mode": {
    "name": "ipython",
    "version": 3
   },
   "file_extension": ".py",
   "mimetype": "text/x-python",
   "name": "python",
   "nbconvert_exporter": "python",
   "pygments_lexer": "ipython3",
   "version": "3.7.1"
  }
 },
 "nbformat": 4,
 "nbformat_minor": 2
}
